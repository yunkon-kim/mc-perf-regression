{
 "cells": [
  {
   "cell_type": "code",
   "execution_count": 3,
   "id": "68d20e12",
   "metadata": {},
   "outputs": [],
   "source": [
    "import torch\n",
    "from torch.optim import Adam\n",
    "from torch.nn import Linear, MSELoss, Sequential\n",
    "import numpy as np\n",
    "import pandas as pd\n",
    "import matplotlib.pyplot as plt"
   ]
  },
  {
   "cell_type": "code",
   "execution_count": 8,
   "id": "a5498d4e",
   "metadata": {
    "scrolled": false
   },
   "outputs": [
    {
     "ename": "ParserError",
     "evalue": "Error tokenizing data. C error: Expected 2 fields in line 5, saw 3\n",
     "output_type": "error",
     "traceback": [
      "\u001b[1;31m---------------------------------------------------------------------------\u001b[0m",
      "\u001b[1;31mParserError\u001b[0m                               Traceback (most recent call last)",
      "\u001b[1;32md:\\Dev\\yunkon-kim\\mc-perf-regression\\10.선형회귀(하이레벨).ipynb Cell 2\u001b[0m in \u001b[0;36m<cell line: 1>\u001b[1;34m()\u001b[0m\n\u001b[1;32m----> <a href='vscode-notebook-cell:/d%3A/Dev/yunkon-kim/mc-perf-regression/10.%EC%84%A0%ED%98%95%ED%9A%8C%EA%B7%80%28%ED%95%98%EC%9D%B4%EB%A0%88%EB%B2%A8%29.ipynb#W1sZmlsZQ%3D%3D?line=0'>1</a>\u001b[0m df \u001b[39m=\u001b[39m pd\u001b[39m.\u001b[39;49mread_csv(\u001b[39m'\u001b[39;49m\u001b[39mcontrol-group.csv\u001b[39;49m\u001b[39m'\u001b[39;49m, index_col\u001b[39m=\u001b[39;49m\u001b[39m\"\u001b[39;49m\u001b[39mUnnamed: 0\u001b[39;49m\u001b[39m\"\u001b[39;49m)\n\u001b[0;32m      <a href='vscode-notebook-cell:/d%3A/Dev/yunkon-kim/mc-perf-regression/10.%EC%84%A0%ED%98%95%ED%9A%8C%EA%B7%80%28%ED%95%98%EC%9D%B4%EB%A0%88%EB%B2%A8%29.ipynb#W1sZmlsZQ%3D%3D?line=1'>2</a>\u001b[0m df\n",
      "File \u001b[1;32mc:\\Users\\USER\\.conda\\envs\\mc-perf-regression\\lib\\site-packages\\pandas\\util\\_decorators.py:211\u001b[0m, in \u001b[0;36mdeprecate_kwarg.<locals>._deprecate_kwarg.<locals>.wrapper\u001b[1;34m(*args, **kwargs)\u001b[0m\n\u001b[0;32m    209\u001b[0m     \u001b[39melse\u001b[39;00m:\n\u001b[0;32m    210\u001b[0m         kwargs[new_arg_name] \u001b[39m=\u001b[39m new_arg_value\n\u001b[1;32m--> 211\u001b[0m \u001b[39mreturn\u001b[39;00m func(\u001b[39m*\u001b[39;49margs, \u001b[39m*\u001b[39;49m\u001b[39m*\u001b[39;49mkwargs)\n",
      "File \u001b[1;32mc:\\Users\\USER\\.conda\\envs\\mc-perf-regression\\lib\\site-packages\\pandas\\util\\_decorators.py:317\u001b[0m, in \u001b[0;36mdeprecate_nonkeyword_arguments.<locals>.decorate.<locals>.wrapper\u001b[1;34m(*args, **kwargs)\u001b[0m\n\u001b[0;32m    311\u001b[0m \u001b[39mif\u001b[39;00m \u001b[39mlen\u001b[39m(args) \u001b[39m>\u001b[39m num_allow_args:\n\u001b[0;32m    312\u001b[0m     warnings\u001b[39m.\u001b[39mwarn(\n\u001b[0;32m    313\u001b[0m         msg\u001b[39m.\u001b[39mformat(arguments\u001b[39m=\u001b[39marguments),\n\u001b[0;32m    314\u001b[0m         \u001b[39mFutureWarning\u001b[39;00m,\n\u001b[0;32m    315\u001b[0m         stacklevel\u001b[39m=\u001b[39mfind_stack_level(inspect\u001b[39m.\u001b[39mcurrentframe()),\n\u001b[0;32m    316\u001b[0m     )\n\u001b[1;32m--> 317\u001b[0m \u001b[39mreturn\u001b[39;00m func(\u001b[39m*\u001b[39;49margs, \u001b[39m*\u001b[39;49m\u001b[39m*\u001b[39;49mkwargs)\n",
      "File \u001b[1;32mc:\\Users\\USER\\.conda\\envs\\mc-perf-regression\\lib\\site-packages\\pandas\\io\\parsers\\readers.py:950\u001b[0m, in \u001b[0;36mread_csv\u001b[1;34m(filepath_or_buffer, sep, delimiter, header, names, index_col, usecols, squeeze, prefix, mangle_dupe_cols, dtype, engine, converters, true_values, false_values, skipinitialspace, skiprows, skipfooter, nrows, na_values, keep_default_na, na_filter, verbose, skip_blank_lines, parse_dates, infer_datetime_format, keep_date_col, date_parser, dayfirst, cache_dates, iterator, chunksize, compression, thousands, decimal, lineterminator, quotechar, quoting, doublequote, escapechar, comment, encoding, encoding_errors, dialect, error_bad_lines, warn_bad_lines, on_bad_lines, delim_whitespace, low_memory, memory_map, float_precision, storage_options)\u001b[0m\n\u001b[0;32m    935\u001b[0m kwds_defaults \u001b[39m=\u001b[39m _refine_defaults_read(\n\u001b[0;32m    936\u001b[0m     dialect,\n\u001b[0;32m    937\u001b[0m     delimiter,\n\u001b[1;32m   (...)\u001b[0m\n\u001b[0;32m    946\u001b[0m     defaults\u001b[39m=\u001b[39m{\u001b[39m\"\u001b[39m\u001b[39mdelimiter\u001b[39m\u001b[39m\"\u001b[39m: \u001b[39m\"\u001b[39m\u001b[39m,\u001b[39m\u001b[39m\"\u001b[39m},\n\u001b[0;32m    947\u001b[0m )\n\u001b[0;32m    948\u001b[0m kwds\u001b[39m.\u001b[39mupdate(kwds_defaults)\n\u001b[1;32m--> 950\u001b[0m \u001b[39mreturn\u001b[39;00m _read(filepath_or_buffer, kwds)\n",
      "File \u001b[1;32mc:\\Users\\USER\\.conda\\envs\\mc-perf-regression\\lib\\site-packages\\pandas\\io\\parsers\\readers.py:611\u001b[0m, in \u001b[0;36m_read\u001b[1;34m(filepath_or_buffer, kwds)\u001b[0m\n\u001b[0;32m    608\u001b[0m     \u001b[39mreturn\u001b[39;00m parser\n\u001b[0;32m    610\u001b[0m \u001b[39mwith\u001b[39;00m parser:\n\u001b[1;32m--> 611\u001b[0m     \u001b[39mreturn\u001b[39;00m parser\u001b[39m.\u001b[39;49mread(nrows)\n",
      "File \u001b[1;32mc:\\Users\\USER\\.conda\\envs\\mc-perf-regression\\lib\\site-packages\\pandas\\io\\parsers\\readers.py:1772\u001b[0m, in \u001b[0;36mTextFileReader.read\u001b[1;34m(self, nrows)\u001b[0m\n\u001b[0;32m   1765\u001b[0m nrows \u001b[39m=\u001b[39m validate_integer(\u001b[39m\"\u001b[39m\u001b[39mnrows\u001b[39m\u001b[39m\"\u001b[39m, nrows)\n\u001b[0;32m   1766\u001b[0m \u001b[39mtry\u001b[39;00m:\n\u001b[0;32m   1767\u001b[0m     \u001b[39m# error: \"ParserBase\" has no attribute \"read\"\u001b[39;00m\n\u001b[0;32m   1768\u001b[0m     (\n\u001b[0;32m   1769\u001b[0m         index,\n\u001b[0;32m   1770\u001b[0m         columns,\n\u001b[0;32m   1771\u001b[0m         col_dict,\n\u001b[1;32m-> 1772\u001b[0m     ) \u001b[39m=\u001b[39m \u001b[39mself\u001b[39;49m\u001b[39m.\u001b[39;49m_engine\u001b[39m.\u001b[39;49mread(  \u001b[39m# type: ignore[attr-defined]\u001b[39;49;00m\n\u001b[0;32m   1773\u001b[0m         nrows\n\u001b[0;32m   1774\u001b[0m     )\n\u001b[0;32m   1775\u001b[0m \u001b[39mexcept\u001b[39;00m \u001b[39mException\u001b[39;00m:\n\u001b[0;32m   1776\u001b[0m     \u001b[39mself\u001b[39m\u001b[39m.\u001b[39mclose()\n",
      "File \u001b[1;32mc:\\Users\\USER\\.conda\\envs\\mc-perf-regression\\lib\\site-packages\\pandas\\io\\parsers\\c_parser_wrapper.py:243\u001b[0m, in \u001b[0;36mCParserWrapper.read\u001b[1;34m(self, nrows)\u001b[0m\n\u001b[0;32m    241\u001b[0m \u001b[39mtry\u001b[39;00m:\n\u001b[0;32m    242\u001b[0m     \u001b[39mif\u001b[39;00m \u001b[39mself\u001b[39m\u001b[39m.\u001b[39mlow_memory:\n\u001b[1;32m--> 243\u001b[0m         chunks \u001b[39m=\u001b[39m \u001b[39mself\u001b[39;49m\u001b[39m.\u001b[39;49m_reader\u001b[39m.\u001b[39;49mread_low_memory(nrows)\n\u001b[0;32m    244\u001b[0m         \u001b[39m# destructive to chunks\u001b[39;00m\n\u001b[0;32m    245\u001b[0m         data \u001b[39m=\u001b[39m _concatenate_chunks(chunks)\n",
      "File \u001b[1;32mc:\\Users\\USER\\.conda\\envs\\mc-perf-regression\\lib\\site-packages\\pandas\\_libs\\parsers.pyx:808\u001b[0m, in \u001b[0;36mpandas._libs.parsers.TextReader.read_low_memory\u001b[1;34m()\u001b[0m\n",
      "File \u001b[1;32mc:\\Users\\USER\\.conda\\envs\\mc-perf-regression\\lib\\site-packages\\pandas\\_libs\\parsers.pyx:866\u001b[0m, in \u001b[0;36mpandas._libs.parsers.TextReader._read_rows\u001b[1;34m()\u001b[0m\n",
      "File \u001b[1;32mc:\\Users\\USER\\.conda\\envs\\mc-perf-regression\\lib\\site-packages\\pandas\\_libs\\parsers.pyx:852\u001b[0m, in \u001b[0;36mpandas._libs.parsers.TextReader._tokenize_rows\u001b[1;34m()\u001b[0m\n",
      "File \u001b[1;32mc:\\Users\\USER\\.conda\\envs\\mc-perf-regression\\lib\\site-packages\\pandas\\_libs\\parsers.pyx:1973\u001b[0m, in \u001b[0;36mpandas._libs.parsers.raise_parser_error\u001b[1;34m()\u001b[0m\n",
      "\u001b[1;31mParserError\u001b[0m: Error tokenizing data. C error: Expected 2 fields in line 5, saw 3\n"
     ]
    }
   ],
   "source": [
    "df = pd.read_csv('control-group.csv', index_col=\"Unnamed: 0\")\n",
    "df"
   ]
  },
  {
   "cell_type": "code",
   "execution_count": null,
   "id": "ff8a6286",
   "metadata": {},
   "outputs": [],
   "source": [
    "df.corr()"
   ]
  },
  {
   "cell_type": "markdown",
   "id": "f8299461",
   "metadata": {},
   "source": [
    "## High level API 1\n",
    "- Data를 matrix형태로 줘야함\n",
    "- 왜 그런지는 다중 선형회귀에서 이해할 수 있음"
   ]
  },
  {
   "cell_type": "code",
   "execution_count": null,
   "id": "bf92fd14",
   "metadata": {},
   "outputs": [],
   "source": [
    "x = torch.FloatTensor(df[['speed']].values) # 특성 데이터\n",
    "y = torch.FloatTensor(df[['dist']].values) # 라벨"
   ]
  },
  {
   "cell_type": "code",
   "execution_count": null,
   "id": "e003edf6",
   "metadata": {},
   "outputs": [],
   "source": [
    "linear = Linear(1,1) # (특성 데이터의 갯수, 라벨의 갯수)"
   ]
  },
  {
   "cell_type": "code",
   "execution_count": null,
   "id": "a3198d8d",
   "metadata": {},
   "outputs": [],
   "source": [
    "list(linear.parameters()) # linear.parameters() 안에서 w와 b의 값이 주어짐 (Random하게)"
   ]
  },
  {
   "cell_type": "code",
   "execution_count": null,
   "id": "69d95780",
   "metadata": {},
   "outputs": [],
   "source": [
    "linear.weight"
   ]
  },
  {
   "cell_type": "code",
   "execution_count": null,
   "id": "e5453204",
   "metadata": {},
   "outputs": [],
   "source": [
    "linear.bias"
   ]
  },
  {
   "cell_type": "code",
   "execution_count": null,
   "id": "2b24245f",
   "metadata": {},
   "outputs": [],
   "source": [
    "loss_fn = MSELoss()\n",
    "optimizer = Adam(linear.parameters(), lr=0.1)\n",
    "for step in range(1000):\n",
    "    optimizer.zero_grad()\n",
    "    hx = linear.forward(x) # hx = w*x+b # linear(x) <-- special 함수로 재정의 되어있어서 가능\n",
    "    cost = loss_fn(hx, y)\n",
    "    cost.backward()\n",
    "    optimizer.step()\n",
    "    print(step, cost.item())"
   ]
  },
  {
   "cell_type": "code",
   "execution_count": null,
   "id": "944a9ff1",
   "metadata": {},
   "outputs": [],
   "source": [
    "list(linear.parameters())"
   ]
  },
  {
   "cell_type": "code",
   "execution_count": null,
   "id": "682f485c",
   "metadata": {},
   "outputs": [],
   "source": [
    "linear.weight"
   ]
  },
  {
   "cell_type": "code",
   "execution_count": null,
   "id": "d69ae943",
   "metadata": {},
   "outputs": [],
   "source": [
    "linear.bias"
   ]
  },
  {
   "cell_type": "code",
   "execution_count": null,
   "id": "79b4278c",
   "metadata": {},
   "outputs": [],
   "source": [
    "linear.forward(torch.FloatTensor([10]))"
   ]
  },
  {
   "cell_type": "code",
   "execution_count": null,
   "id": "6a9f8459",
   "metadata": {},
   "outputs": [],
   "source": [
    "linear(torch.FloatTensor([10]))"
   ]
  },
  {
   "cell_type": "code",
   "execution_count": null,
   "id": "ed3d3b50",
   "metadata": {},
   "outputs": [],
   "source": [
    "pred = linear(x).detach().numpy()"
   ]
  },
  {
   "cell_type": "code",
   "execution_count": null,
   "id": "ed54f3ce",
   "metadata": {
    "scrolled": false
   },
   "outputs": [],
   "source": [
    "plt.scatter(df['speed'], df['dist'])\n",
    "plt.plot(df['speed'], pred, 'r--')\n",
    "plt.show()"
   ]
  },
  {
   "cell_type": "markdown",
   "id": "367a73da",
   "metadata": {},
   "source": [
    "### 번외 Python의 special 함수"
   ]
  },
  {
   "cell_type": "code",
   "execution_count": null,
   "id": "7e5aa7a3",
   "metadata": {},
   "outputs": [],
   "source": [
    "class Test:\n",
    "    def __init__(self):\n",
    "        self.d = {}\n",
    "        self.a = 10\n",
    "    def __repr__(self):\n",
    "        return f'a={self.a}'\n",
    "    def __setitem__(self, key, value):\n",
    "        print('setitem call')\n",
    "        self.d[key] = value"
   ]
  },
  {
   "cell_type": "code",
   "execution_count": null,
   "id": "ebf5a2c4",
   "metadata": {
    "scrolled": true
   },
   "outputs": [],
   "source": [
    "obj = Test()\n",
    "print(obj) # obj.__repr__()"
   ]
  },
  {
   "cell_type": "code",
   "execution_count": null,
   "id": "540d008c",
   "metadata": {},
   "outputs": [],
   "source": [
    "obj['aa']=100 # obj.__setitem__('aa', 100)"
   ]
  },
  {
   "cell_type": "markdown",
   "id": "aa813fe8",
   "metadata": {},
   "source": [
    "## High level API 2\n"
   ]
  },
  {
   "cell_type": "code",
   "execution_count": null,
   "id": "b60cd936",
   "metadata": {},
   "outputs": [],
   "source": [
    "model = Sequential()\n",
    "model.add_module('nn1', Linear(1,1))"
   ]
  },
  {
   "cell_type": "code",
   "execution_count": null,
   "id": "4b1bb03d",
   "metadata": {},
   "outputs": [],
   "source": [
    "loss_fn = MSELoss()\n",
    "optimizer = Adam(model.parameters(), lr=0.1)"
   ]
  },
  {
   "cell_type": "code",
   "execution_count": null,
   "id": "0c39c5b1",
   "metadata": {},
   "outputs": [],
   "source": [
    "for step in range(1000):\n",
    "    optimizer.zero_grad()\n",
    "    hx = model.forward(x) # w*x+b # hx = model(x)\n",
    "    cost = loss_fn(hx, y)\n",
    "    cost.backward()\n",
    "    optimizer.step()\n",
    "    print(step, cost.item())"
   ]
  },
  {
   "cell_type": "code",
   "execution_count": null,
   "id": "178448a6",
   "metadata": {},
   "outputs": [],
   "source": [
    "model[0].weight"
   ]
  },
  {
   "cell_type": "code",
   "execution_count": null,
   "id": "e57bf7fc",
   "metadata": {},
   "outputs": [],
   "source": [
    "model[0].bias"
   ]
  },
  {
   "cell_type": "code",
   "execution_count": null,
   "id": "deec645c",
   "metadata": {},
   "outputs": [],
   "source": [
    "model( torch.FloatTensor([10]))"
   ]
  }
 ],
 "metadata": {
  "kernelspec": {
   "display_name": "Python 3.8.13 ('mc-perf-regression')",
   "language": "python",
   "name": "python3"
  },
  "language_info": {
   "codemirror_mode": {
    "name": "ipython",
    "version": 3
   },
   "file_extension": ".py",
   "mimetype": "text/x-python",
   "name": "python",
   "nbconvert_exporter": "python",
   "pygments_lexer": "ipython3",
   "version": "3.8.13"
  },
  "vscode": {
   "interpreter": {
    "hash": "df18979b1d7671eb92bdadbd0741e55b200657242ce0c5b22ecbe5cecfede04a"
   }
  }
 },
 "nbformat": 4,
 "nbformat_minor": 5
}
