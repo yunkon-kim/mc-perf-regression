{
 "cells": [
  {
   "cell_type": "code",
   "execution_count": 17,
   "id": "68d20e12",
   "metadata": {},
   "outputs": [],
   "source": [
    "import torch\n",
    "import torch.nn.functional as F\n",
    "from torch.optim import Adam\n",
    "from torch.nn import Linear, MSELoss, Sequential, Sigmoid, Softmax, ReLU, LeakyReLU, Module\n",
    "import numpy as np\n",
    "import pandas as pd\n",
    "import matplotlib.pyplot as plt\n",
    "\n",
    "from sklearn.preprocessing import MinMaxScaler, StandardScaler\n",
    "from scipy.interpolate import make_interp_spline, BSpline"
   ]
  },
  {
   "cell_type": "code",
   "execution_count": 18,
   "id": "a5498d4e",
   "metadata": {
    "scrolled": false
   },
   "outputs": [
    {
     "data": {
      "text/html": [
       "<div>\n",
       "<style scoped>\n",
       "    .dataframe tbody tr th:only-of-type {\n",
       "        vertical-align: middle;\n",
       "    }\n",
       "\n",
       "    .dataframe tbody tr th {\n",
       "        vertical-align: top;\n",
       "    }\n",
       "\n",
       "    .dataframe thead th {\n",
       "        text-align: right;\n",
       "    }\n",
       "</style>\n",
       "<table border=\"1\" class=\"dataframe\">\n",
       "  <thead>\n",
       "    <tr style=\"text-align: right;\">\n",
       "      <th></th>\n",
       "      <th>vms</th>\n",
       "      <th>bytesIn</th>\n",
       "      <th>bytesOut</th>\n",
       "    </tr>\n",
       "  </thead>\n",
       "  <tbody>\n",
       "    <tr>\n",
       "      <th>0</th>\n",
       "      <td>10</td>\n",
       "      <td>94409</td>\n",
       "      <td>54308</td>\n",
       "    </tr>\n",
       "    <tr>\n",
       "      <th>1</th>\n",
       "      <td>10</td>\n",
       "      <td>94051</td>\n",
       "      <td>53708</td>\n",
       "    </tr>\n",
       "    <tr>\n",
       "      <th>2</th>\n",
       "      <td>10</td>\n",
       "      <td>93617</td>\n",
       "      <td>54394</td>\n",
       "    </tr>\n",
       "    <tr>\n",
       "      <th>3</th>\n",
       "      <td>20</td>\n",
       "      <td>674656</td>\n",
       "      <td>208973</td>\n",
       "    </tr>\n",
       "    <tr>\n",
       "      <th>4</th>\n",
       "      <td>20</td>\n",
       "      <td>676367</td>\n",
       "      <td>208445</td>\n",
       "    </tr>\n",
       "    <tr>\n",
       "      <th>5</th>\n",
       "      <td>20</td>\n",
       "      <td>670885</td>\n",
       "      <td>210163</td>\n",
       "    </tr>\n",
       "    <tr>\n",
       "      <th>6</th>\n",
       "      <td>30</td>\n",
       "      <td>2219595</td>\n",
       "      <td>460397</td>\n",
       "    </tr>\n",
       "    <tr>\n",
       "      <th>7</th>\n",
       "      <td>30</td>\n",
       "      <td>2200792</td>\n",
       "      <td>460377</td>\n",
       "    </tr>\n",
       "    <tr>\n",
       "      <th>8</th>\n",
       "      <td>40</td>\n",
       "      <td>5159332</td>\n",
       "      <td>813267</td>\n",
       "    </tr>\n",
       "    <tr>\n",
       "      <th>9</th>\n",
       "      <td>40</td>\n",
       "      <td>5171508</td>\n",
       "      <td>812587</td>\n",
       "    </tr>\n",
       "    <tr>\n",
       "      <th>10</th>\n",
       "      <td>50</td>\n",
       "      <td>10000179</td>\n",
       "      <td>1262052</td>\n",
       "    </tr>\n",
       "    <tr>\n",
       "      <th>11</th>\n",
       "      <td>50</td>\n",
       "      <td>10022815</td>\n",
       "      <td>1264540</td>\n",
       "    </tr>\n",
       "    <tr>\n",
       "      <th>12</th>\n",
       "      <td>50</td>\n",
       "      <td>10022815</td>\n",
       "      <td>1264540</td>\n",
       "    </tr>\n",
       "    <tr>\n",
       "      <th>13</th>\n",
       "      <td>50</td>\n",
       "      <td>10039191</td>\n",
       "      <td>1266490</td>\n",
       "    </tr>\n",
       "  </tbody>\n",
       "</table>\n",
       "</div>"
      ],
      "text/plain": [
       "    vms   bytesIn  bytesOut\n",
       "0    10     94409     54308\n",
       "1    10     94051     53708\n",
       "2    10     93617     54394\n",
       "3    20    674656    208973\n",
       "4    20    676367    208445\n",
       "5    20    670885    210163\n",
       "6    30   2219595    460397\n",
       "7    30   2200792    460377\n",
       "8    40   5159332    813267\n",
       "9    40   5171508    812587\n",
       "10   50  10000179   1262052\n",
       "11   50  10022815   1264540\n",
       "12   50  10022815   1264540\n",
       "13   50  10039191   1266490"
      ]
     },
     "execution_count": 18,
     "metadata": {},
     "output_type": "execute_result"
    }
   ],
   "source": [
    "df = pd.read_csv('io-bytes-experimental-group.csv')\n",
    "df"
   ]
  },
  {
   "cell_type": "code",
   "execution_count": 19,
   "id": "ff8a6286",
   "metadata": {},
   "outputs": [
    {
     "data": {
      "text/html": [
       "<div>\n",
       "<style scoped>\n",
       "    .dataframe tbody tr th:only-of-type {\n",
       "        vertical-align: middle;\n",
       "    }\n",
       "\n",
       "    .dataframe tbody tr th {\n",
       "        vertical-align: top;\n",
       "    }\n",
       "\n",
       "    .dataframe thead th {\n",
       "        text-align: right;\n",
       "    }\n",
       "</style>\n",
       "<table border=\"1\" class=\"dataframe\">\n",
       "  <thead>\n",
       "    <tr style=\"text-align: right;\">\n",
       "      <th></th>\n",
       "      <th>vms</th>\n",
       "      <th>bytesIn</th>\n",
       "      <th>bytesOut</th>\n",
       "    </tr>\n",
       "  </thead>\n",
       "  <tbody>\n",
       "    <tr>\n",
       "      <th>vms</th>\n",
       "      <td>1.000000</td>\n",
       "      <td>0.957067</td>\n",
       "      <td>0.985316</td>\n",
       "    </tr>\n",
       "    <tr>\n",
       "      <th>bytesIn</th>\n",
       "      <td>0.957067</td>\n",
       "      <td>1.000000</td>\n",
       "      <td>0.992239</td>\n",
       "    </tr>\n",
       "    <tr>\n",
       "      <th>bytesOut</th>\n",
       "      <td>0.985316</td>\n",
       "      <td>0.992239</td>\n",
       "      <td>1.000000</td>\n",
       "    </tr>\n",
       "  </tbody>\n",
       "</table>\n",
       "</div>"
      ],
      "text/plain": [
       "               vms   bytesIn  bytesOut\n",
       "vms       1.000000  0.957067  0.985316\n",
       "bytesIn   0.957067  1.000000  0.992239\n",
       "bytesOut  0.985316  0.992239  1.000000"
      ]
     },
     "execution_count": 19,
     "metadata": {},
     "output_type": "execute_result"
    }
   ],
   "source": [
    "df.corr()"
   ]
  },
  {
   "cell_type": "code",
   "execution_count": 20,
   "id": "b8b4d0ae",
   "metadata": {},
   "outputs": [
    {
     "data": {
      "text/html": [
       "<div>\n",
       "<style scoped>\n",
       "    .dataframe tbody tr th:only-of-type {\n",
       "        vertical-align: middle;\n",
       "    }\n",
       "\n",
       "    .dataframe tbody tr th {\n",
       "        vertical-align: top;\n",
       "    }\n",
       "\n",
       "    .dataframe thead th {\n",
       "        text-align: right;\n",
       "    }\n",
       "</style>\n",
       "<table border=\"1\" class=\"dataframe\">\n",
       "  <thead>\n",
       "    <tr style=\"text-align: right;\">\n",
       "      <th></th>\n",
       "      <th>squared_vms</th>\n",
       "      <th>vms</th>\n",
       "      <th>bytesIn</th>\n",
       "      <th>bytesOut</th>\n",
       "      <th>sum</th>\n",
       "    </tr>\n",
       "  </thead>\n",
       "  <tbody>\n",
       "    <tr>\n",
       "      <th>0</th>\n",
       "      <td>100</td>\n",
       "      <td>10</td>\n",
       "      <td>94409</td>\n",
       "      <td>54308</td>\n",
       "      <td>145.231445</td>\n",
       "    </tr>\n",
       "    <tr>\n",
       "      <th>1</th>\n",
       "      <td>100</td>\n",
       "      <td>10</td>\n",
       "      <td>94051</td>\n",
       "      <td>53708</td>\n",
       "      <td>144.295898</td>\n",
       "    </tr>\n",
       "    <tr>\n",
       "      <th>2</th>\n",
       "      <td>100</td>\n",
       "      <td>10</td>\n",
       "      <td>93617</td>\n",
       "      <td>54394</td>\n",
       "      <td>144.541992</td>\n",
       "    </tr>\n",
       "    <tr>\n",
       "      <th>3</th>\n",
       "      <td>400</td>\n",
       "      <td>20</td>\n",
       "      <td>674656</td>\n",
       "      <td>208973</td>\n",
       "      <td>862.918945</td>\n",
       "    </tr>\n",
       "    <tr>\n",
       "      <th>4</th>\n",
       "      <td>400</td>\n",
       "      <td>20</td>\n",
       "      <td>676367</td>\n",
       "      <td>208445</td>\n",
       "      <td>864.074219</td>\n",
       "    </tr>\n",
       "    <tr>\n",
       "      <th>5</th>\n",
       "      <td>400</td>\n",
       "      <td>20</td>\n",
       "      <td>670885</td>\n",
       "      <td>210163</td>\n",
       "      <td>860.398438</td>\n",
       "    </tr>\n",
       "    <tr>\n",
       "      <th>6</th>\n",
       "      <td>900</td>\n",
       "      <td>30</td>\n",
       "      <td>2219595</td>\n",
       "      <td>460397</td>\n",
       "      <td>2617.179688</td>\n",
       "    </tr>\n",
       "    <tr>\n",
       "      <th>7</th>\n",
       "      <td>900</td>\n",
       "      <td>30</td>\n",
       "      <td>2200792</td>\n",
       "      <td>460377</td>\n",
       "      <td>2598.797852</td>\n",
       "    </tr>\n",
       "    <tr>\n",
       "      <th>8</th>\n",
       "      <td>1600</td>\n",
       "      <td>40</td>\n",
       "      <td>5159332</td>\n",
       "      <td>813267</td>\n",
       "      <td>5832.616211</td>\n",
       "    </tr>\n",
       "    <tr>\n",
       "      <th>9</th>\n",
       "      <td>1600</td>\n",
       "      <td>40</td>\n",
       "      <td>5171508</td>\n",
       "      <td>812587</td>\n",
       "      <td>5843.842773</td>\n",
       "    </tr>\n",
       "    <tr>\n",
       "      <th>10</th>\n",
       "      <td>2500</td>\n",
       "      <td>50</td>\n",
       "      <td>10000179</td>\n",
       "      <td>1262052</td>\n",
       "      <td>10998.272461</td>\n",
       "    </tr>\n",
       "    <tr>\n",
       "      <th>11</th>\n",
       "      <td>2500</td>\n",
       "      <td>50</td>\n",
       "      <td>10022815</td>\n",
       "      <td>1264540</td>\n",
       "      <td>11022.807617</td>\n",
       "    </tr>\n",
       "    <tr>\n",
       "      <th>12</th>\n",
       "      <td>2500</td>\n",
       "      <td>50</td>\n",
       "      <td>10022815</td>\n",
       "      <td>1264540</td>\n",
       "      <td>11022.807617</td>\n",
       "    </tr>\n",
       "    <tr>\n",
       "      <th>13</th>\n",
       "      <td>2500</td>\n",
       "      <td>50</td>\n",
       "      <td>10039191</td>\n",
       "      <td>1266490</td>\n",
       "      <td>11040.704102</td>\n",
       "    </tr>\n",
       "  </tbody>\n",
       "</table>\n",
       "</div>"
      ],
      "text/plain": [
       "    squared_vms  vms   bytesIn  bytesOut           sum\n",
       "0           100   10     94409     54308    145.231445\n",
       "1           100   10     94051     53708    144.295898\n",
       "2           100   10     93617     54394    144.541992\n",
       "3           400   20    674656    208973    862.918945\n",
       "4           400   20    676367    208445    864.074219\n",
       "5           400   20    670885    210163    860.398438\n",
       "6           900   30   2219595    460397   2617.179688\n",
       "7           900   30   2200792    460377   2598.797852\n",
       "8          1600   40   5159332    813267   5832.616211\n",
       "9          1600   40   5171508    812587   5843.842773\n",
       "10         2500   50  10000179   1262052  10998.272461\n",
       "11         2500   50  10022815   1264540  11022.807617\n",
       "12         2500   50  10022815   1264540  11022.807617\n",
       "13         2500   50  10039191   1266490  11040.704102"
      ]
     },
     "execution_count": 20,
     "metadata": {},
     "output_type": "execute_result"
    }
   ],
   "source": [
    "df = df.dropna() # drop all rows that have NAN/none\n",
    "df['sum'] = (df['bytesIn']+df['bytesOut'])/1024\n",
    "df.insert(0, \"squared_vms\", df['vms']**2, True)\n",
    "df"
   ]
  },
  {
   "cell_type": "code",
   "execution_count": 21,
   "id": "9359290b",
   "metadata": {},
   "outputs": [
    {
     "name": "stdout",
     "output_type": "stream",
     "text": [
      "(14, 2)\n"
     ]
    }
   ],
   "source": [
    "x_data = df.iloc[:,:2].values # 0, 1 열 (x^2 + x)\n",
    "y_data = df.iloc[:,[-1]].values  # 마지막 열만\n",
    "print(x_data.shape)\n"
   ]
  },
  {
   "cell_type": "code",
   "execution_count": 22,
   "id": "d9e186c8",
   "metadata": {},
   "outputs": [
    {
     "data": {
      "text/plain": [
       "array([[0.        , 0.        ],\n",
       "       [0.        , 0.        ],\n",
       "       [0.        , 0.        ],\n",
       "       [0.125     , 0.25      ],\n",
       "       [0.125     , 0.25      ],\n",
       "       [0.125     , 0.25      ],\n",
       "       [0.33333333, 0.5       ],\n",
       "       [0.33333333, 0.5       ],\n",
       "       [0.625     , 0.75      ],\n",
       "       [0.625     , 0.75      ],\n",
       "       [1.        , 1.        ],\n",
       "       [1.        , 1.        ],\n",
       "       [1.        , 1.        ],\n",
       "       [1.        , 1.        ]])"
      ]
     },
     "execution_count": 22,
     "metadata": {},
     "output_type": "execute_result"
    }
   ],
   "source": [
    "\n",
    "scaleF = MinMaxScaler()\n",
    "x_dataN = scaleF.fit_transform( x_data )\n",
    "\n",
    "scaleL = MinMaxScaler()\n",
    "y_dataN = scaleL.fit_transform( y_data )\n",
    "y_dataN.shape\n",
    "\n",
    "x_dataN"
   ]
  },
  {
   "cell_type": "code",
   "execution_count": 23,
   "id": "bf92fd14",
   "metadata": {},
   "outputs": [],
   "source": [
    "x = torch.FloatTensor( x_dataN ) # 특성 데이터\n",
    "y = torch.FloatTensor( y_dataN ) # 라벨"
   ]
  },
  {
   "cell_type": "code",
   "execution_count": 24,
   "id": "4982aa4d",
   "metadata": {},
   "outputs": [],
   "source": [
    "class ExpModel(Module):\n",
    "    def __init__(self):\n",
    "        super().__init__()\n",
    "        self.fc1 = Linear(2,1)\n",
    "    \n",
    "    def forward(self, x):        \n",
    "        x = self.fc1(x)\n",
    "        \n",
    "        return x       \n",
    "        "
   ]
  },
  {
   "cell_type": "code",
   "execution_count": 25,
   "id": "b60cd936",
   "metadata": {},
   "outputs": [
    {
     "data": {
      "text/plain": [
       "[Parameter containing:\n",
       " tensor([[0.6318, 0.5363]], requires_grad=True),\n",
       " Parameter containing:\n",
       " tensor([-0.4970], requires_grad=True)]"
      ]
     },
     "execution_count": 25,
     "metadata": {},
     "output_type": "execute_result"
    }
   ],
   "source": [
    "# model = Sequential()\n",
    "# model.add_module('nn1', Linear(1,1))\n",
    "model = ExpModel()\n",
    "\n",
    "list(model.parameters())"
   ]
  },
  {
   "cell_type": "code",
   "execution_count": 26,
   "id": "4b1bb03d",
   "metadata": {},
   "outputs": [],
   "source": [
    "loss_fn = MSELoss()\n",
    "optimizer = Adam(model.parameters())"
   ]
  },
  {
   "cell_type": "code",
   "execution_count": 27,
   "id": "0c39c5b1",
   "metadata": {},
   "outputs": [
    {
     "name": "stdout",
     "output_type": "stream",
     "text": [
      "0 0.1253289431333542\n",
      "100 0.050032954663038254\n",
      "200 0.03239060938358307\n",
      "300 0.024327946826815605\n",
      "400 0.018083935603499413\n",
      "500 0.013474405743181705\n",
      "600 0.010314829647541046\n",
      "700 0.008282572962343693\n",
      "800 0.007042865734547377\n",
      "900 0.006313400808721781\n",
      "1000 0.005885905120521784\n",
      "1100 0.005622442811727524\n",
      "1200 0.0054400316439569\n",
      "1300 0.005293115042150021\n",
      "1400 0.005158826243132353\n",
      "1500 0.005026737693697214\n",
      "1600 0.004892578814178705\n",
      "1700 0.004754881840199232\n",
      "1800 0.004613332450389862\n",
      "1900 0.004468061029911041\n",
      "2000 0.0043193744495511055\n",
      "2100 0.004167635925114155\n",
      "2200 0.004013236612081528\n",
      "2300 0.0038566028233617544\n",
      "2400 0.0036981769371777773\n",
      "2500 0.0035384204238653183\n",
      "2600 0.003377807792276144\n",
      "2700 0.003216830315068364\n",
      "2800 0.0030559939332306385\n",
      "2900 0.002895813202485442\n"
     ]
    }
   ],
   "source": [
    "hist = []\n",
    "for step in range(3000):\n",
    "    optimizer.zero_grad()\n",
    "    hx = model.forward(x) # w*x+b # hx = model(x)\n",
    "    cost = loss_fn(hx, y)\n",
    "    cost.backward()\n",
    "    optimizer.step()    \n",
    "    if step % 100 == 0:\n",
    "        print(step, cost.item())\n",
    "    hist.append(cost.item())"
   ]
  },
  {
   "cell_type": "code",
   "execution_count": 28,
   "id": "e57bf7fc",
   "metadata": {},
   "outputs": [],
   "source": [
    "# model[0].bias"
   ]
  },
  {
   "cell_type": "code",
   "execution_count": 29,
   "id": "0881d128",
   "metadata": {},
   "outputs": [
    {
     "data": {
      "image/png": "[encoded data removed]",
      "text/plain": [
       "<Figure size 640x480 with 1 Axes>"
      ]
     },
     "metadata": {},
     "output_type": "display_data"
    }
   ],
   "source": [
    "plt.plot(hist)\n",
    "plt.show()"
   ]
  },
  {
   "cell_type": "code",
   "execution_count": 30,
   "id": "178448a6",
   "metadata": {},
   "outputs": [
    {
     "data": {
      "text/plain": [
       "[Parameter containing:\n",
       " tensor([[0.8968, 0.1203]], requires_grad=True),\n",
       " Parameter containing:\n",
       " tensor([-0.0595], requires_grad=True)]"
      ]
     },
     "execution_count": 30,
     "metadata": {},
     "output_type": "execute_result"
    }
   ],
   "source": [
    "list(model.parameters())"
   ]
  },
  {
   "cell_type": "code",
   "execution_count": 31,
   "id": "deec645c",
   "metadata": {},
   "outputs": [
    {
     "data": {
      "text/plain": [
       "array([[ -504.34558 ],\n",
       "       [ -465.8607  ],\n",
       "       [ -419.55536 ],\n",
       "       [ -365.4296  ],\n",
       "       [ -303.48346 ],\n",
       "       [ -233.71689 ],\n",
       "       [ -156.12991 ],\n",
       "       [  -70.72249 ],\n",
       "       [   22.505325],\n",
       "       [  123.553566],\n",
       "       [  232.42224 ],\n",
       "       [  349.11133 ],\n",
       "       [  473.62085 ],\n",
       "       [  605.9508  ],\n",
       "       [  746.1012  ],\n",
       "       [  894.0719  ],\n",
       "       [ 1049.863   ],\n",
       "       [ 1213.4747  ],\n",
       "       [ 1384.9066  ],\n",
       "       [ 1564.159   ],\n",
       "       [ 1751.2318  ],\n",
       "       [ 1946.1252  ],\n",
       "       [ 2148.8389  ],\n",
       "       [ 2359.3728  ],\n",
       "       [ 2577.7273  ],\n",
       "       [ 2803.9026  ],\n",
       "       [ 3037.8977  ],\n",
       "       [ 3279.7134  ],\n",
       "       [ 3529.35    ],\n",
       "       [ 3786.8064  ],\n",
       "       [ 4052.0837  ],\n",
       "       [ 4325.1807  ],\n",
       "       [ 4606.098   ],\n",
       "       [ 4894.837   ],\n",
       "       [ 5191.396   ],\n",
       "       [ 5495.776   ],\n",
       "       [ 5807.9746  ],\n",
       "       [ 6127.995   ],\n",
       "       [ 6455.835   ],\n",
       "       [ 6791.4956  ],\n",
       "       [ 7134.978   ],\n",
       "       [ 7486.2783  ],\n",
       "       [ 7845.4014  ],\n",
       "       [ 8212.343   ],\n",
       "       [ 8587.106   ],\n",
       "       [ 8969.689   ],\n",
       "       [ 9360.094   ],\n",
       "       [ 9758.317   ],\n",
       "       [10164.361   ],\n",
       "       [10578.227   ]], dtype=float32)"
      ]
     },
     "execution_count": 31,
     "metadata": {},
     "output_type": "execute_result"
    }
   ],
   "source": [
    "# Dummy data to draw smooth graph\n",
    "x_axis = np.linspace(1,50,50) # [ 1 , 2, 3, 4, ...., 50]\n",
    "x_dummy = [[xval**2, xval] for xval in x_axis]\n",
    "scaleF = MinMaxScaler()\n",
    "x_dummyN = scaleF.fit_transform( x_dummy )\n",
    "\n",
    "predN = model(torch.FloatTensor(x_dummyN)).detach().numpy()\n",
    "pred = scaleL.inverse_transform(predN)\n",
    "pred"
   ]
  },
  {
   "cell_type": "code",
   "execution_count": 32,
   "id": "1ddc2ec3",
   "metadata": {},
   "outputs": [
    {
     "data": {
      "image/png": "[encoded data removed]",
      "text/plain": [
       "<Figure size 640x480 with 1 Axes>"
      ]
     },
     "metadata": {},
     "output_type": "display_data"
    }
   ],
   "source": [
    "# plt.ylim([0, 25000])\n",
    "plt.plot(x_data[:,[1]], y_data, 'o', label='train data')\n",
    "# plt.scatter(x_data, y_data)\n",
    "# plt.plot(x_data[:,1], np.exp(model(x).data.numpy()), '-r', linewidth=3, label='fitted') # r-- : Red, dashed line\n",
    "\n",
    "plt.plot(x_axis, pred, 'r--', linewidth=3, label='fitted') # r-- : Red, dashed line\n",
    "# plt.grid()\n",
    "plt.legend()\n",
    "plt.show()"
   ]
  }
 ],
 "metadata": {
  "kernelspec": {
   "display_name": "Python 3.8.13 ('mc-perf-regression')",
   "language": "python",
   "name": "python3"
  },
  "language_info": {
   "codemirror_mode": {
    "name": "ipython",
    "version": 3
   },
   "file_extension": ".py",
   "mimetype": "text/x-python",
   "name": "python",
   "nbconvert_exporter": "python",
   "pygments_lexer": "ipython3",
   "version": "3.8.13"
  },
  "vscode": {
   "interpreter": {
    "hash": "df18979b1d7671eb92bdadbd0741e55b200657242ce0c5b22ecbe5cecfede04a"
   }
  }
 },
 "nbformat": 4,
 "nbformat_minor": 5
}
