{
 "cells": [
  {
   "cell_type": "code",
   "execution_count": 452,
   "id": "68d20e12",
   "metadata": {},
   "outputs": [],
   "source": [
    "import torch\n",
    "import torch.nn.functional as F\n",
    "from torch.optim import Adam\n",
    "from torch.nn import Linear, MSELoss, Sequential, Sigmoid, Softmax, ReLU, LeakyReLU, Module\n",
    "import numpy as np\n",
    "import pandas as pd\n",
    "import matplotlib.pyplot as plt\n",
    "\n",
    "from sklearn.preprocessing import MinMaxScaler, StandardScaler"
   ]
  },
  {
   "cell_type": "code",
   "execution_count": 453,
   "id": "a5498d4e",
   "metadata": {
    "scrolled": false
   },
   "outputs": [
    {
     "data": {
      "text/html": [
       "<div>\n",
       "<style scoped>\n",
       "    .dataframe tbody tr th:only-of-type {\n",
       "        vertical-align: middle;\n",
       "    }\n",
       "\n",
       "    .dataframe tbody tr th {\n",
       "        vertical-align: top;\n",
       "    }\n",
       "\n",
       "    .dataframe thead th {\n",
       "        text-align: right;\n",
       "    }\n",
       "</style>\n",
       "<table border=\"1\" class=\"dataframe\">\n",
       "  <thead>\n",
       "    <tr style=\"text-align: right;\">\n",
       "      <th></th>\n",
       "      <th>vms</th>\n",
       "      <th>bytesIn</th>\n",
       "      <th>bytesOut</th>\n",
       "    </tr>\n",
       "  </thead>\n",
       "  <tbody>\n",
       "    <tr>\n",
       "      <th>0</th>\n",
       "      <td>10</td>\n",
       "      <td>94409</td>\n",
       "      <td>54308</td>\n",
       "    </tr>\n",
       "    <tr>\n",
       "      <th>1</th>\n",
       "      <td>20</td>\n",
       "      <td>674656</td>\n",
       "      <td>208973</td>\n",
       "    </tr>\n",
       "    <tr>\n",
       "      <th>2</th>\n",
       "      <td>30</td>\n",
       "      <td>2219595</td>\n",
       "      <td>460397</td>\n",
       "    </tr>\n",
       "    <tr>\n",
       "      <th>3</th>\n",
       "      <td>40</td>\n",
       "      <td>4562333</td>\n",
       "      <td>868538</td>\n",
       "    </tr>\n",
       "    <tr>\n",
       "      <th>4</th>\n",
       "      <td>50</td>\n",
       "      <td>6993231</td>\n",
       "      <td>1108255</td>\n",
       "    </tr>\n",
       "  </tbody>\n",
       "</table>\n",
       "</div>"
      ],
      "text/plain": [
       "   vms  bytesIn  bytesOut\n",
       "0   10    94409     54308\n",
       "1   20   674656    208973\n",
       "2   30  2219595    460397\n",
       "3   40  4562333    868538\n",
       "4   50  6993231   1108255"
      ]
     },
     "execution_count": 453,
     "metadata": {},
     "output_type": "execute_result"
    }
   ],
   "source": [
    "df = pd.read_csv('io-bytes-experimental-group.csv')\n",
    "df"
   ]
  },
  {
   "cell_type": "code",
   "execution_count": 454,
   "id": "ff8a6286",
   "metadata": {},
   "outputs": [
    {
     "data": {
      "text/html": [
       "<div>\n",
       "<style scoped>\n",
       "    .dataframe tbody tr th:only-of-type {\n",
       "        vertical-align: middle;\n",
       "    }\n",
       "\n",
       "    .dataframe tbody tr th {\n",
       "        vertical-align: top;\n",
       "    }\n",
       "\n",
       "    .dataframe thead th {\n",
       "        text-align: right;\n",
       "    }\n",
       "</style>\n",
       "<table border=\"1\" class=\"dataframe\">\n",
       "  <thead>\n",
       "    <tr style=\"text-align: right;\">\n",
       "      <th></th>\n",
       "      <th>vms</th>\n",
       "      <th>bytesIn</th>\n",
       "      <th>bytesOut</th>\n",
       "    </tr>\n",
       "  </thead>\n",
       "  <tbody>\n",
       "    <tr>\n",
       "      <th>vms</th>\n",
       "      <td>1.000000</td>\n",
       "      <td>0.97645</td>\n",
       "      <td>0.989222</td>\n",
       "    </tr>\n",
       "    <tr>\n",
       "      <th>bytesIn</th>\n",
       "      <td>0.976450</td>\n",
       "      <td>1.00000</td>\n",
       "      <td>0.991830</td>\n",
       "    </tr>\n",
       "    <tr>\n",
       "      <th>bytesOut</th>\n",
       "      <td>0.989222</td>\n",
       "      <td>0.99183</td>\n",
       "      <td>1.000000</td>\n",
       "    </tr>\n",
       "  </tbody>\n",
       "</table>\n",
       "</div>"
      ],
      "text/plain": [
       "               vms  bytesIn  bytesOut\n",
       "vms       1.000000  0.97645  0.989222\n",
       "bytesIn   0.976450  1.00000  0.991830\n",
       "bytesOut  0.989222  0.99183  1.000000"
      ]
     },
     "execution_count": 454,
     "metadata": {},
     "output_type": "execute_result"
    }
   ],
   "source": [
    "df.corr()"
   ]
  },
  {
   "cell_type": "code",
   "execution_count": 455,
   "id": "b8b4d0ae",
   "metadata": {},
   "outputs": [
    {
     "data": {
      "text/html": [
       "<div>\n",
       "<style scoped>\n",
       "    .dataframe tbody tr th:only-of-type {\n",
       "        vertical-align: middle;\n",
       "    }\n",
       "\n",
       "    .dataframe tbody tr th {\n",
       "        vertical-align: top;\n",
       "    }\n",
       "\n",
       "    .dataframe thead th {\n",
       "        text-align: right;\n",
       "    }\n",
       "</style>\n",
       "<table border=\"1\" class=\"dataframe\">\n",
       "  <thead>\n",
       "    <tr style=\"text-align: right;\">\n",
       "      <th></th>\n",
       "      <th>vms</th>\n",
       "      <th>bytesIn</th>\n",
       "      <th>bytesOut</th>\n",
       "      <th>sum</th>\n",
       "    </tr>\n",
       "  </thead>\n",
       "  <tbody>\n",
       "    <tr>\n",
       "      <th>0</th>\n",
       "      <td>10</td>\n",
       "      <td>94409</td>\n",
       "      <td>54308</td>\n",
       "      <td>0.141828</td>\n",
       "    </tr>\n",
       "    <tr>\n",
       "      <th>1</th>\n",
       "      <td>20</td>\n",
       "      <td>674656</td>\n",
       "      <td>208973</td>\n",
       "      <td>0.842694</td>\n",
       "    </tr>\n",
       "    <tr>\n",
       "      <th>2</th>\n",
       "      <td>30</td>\n",
       "      <td>2219595</td>\n",
       "      <td>460397</td>\n",
       "      <td>2.555840</td>\n",
       "    </tr>\n",
       "    <tr>\n",
       "      <th>3</th>\n",
       "      <td>40</td>\n",
       "      <td>4562333</td>\n",
       "      <td>868538</td>\n",
       "      <td>5.179282</td>\n",
       "    </tr>\n",
       "    <tr>\n",
       "      <th>4</th>\n",
       "      <td>50</td>\n",
       "      <td>6993231</td>\n",
       "      <td>1108255</td>\n",
       "      <td>7.726179</td>\n",
       "    </tr>\n",
       "  </tbody>\n",
       "</table>\n",
       "</div>"
      ],
      "text/plain": [
       "   vms  bytesIn  bytesOut       sum\n",
       "0   10    94409     54308  0.141828\n",
       "1   20   674656    208973  0.842694\n",
       "2   30  2219595    460397  2.555840\n",
       "3   40  4562333    868538  5.179282\n",
       "4   50  6993231   1108255  7.726179"
      ]
     },
     "execution_count": 455,
     "metadata": {},
     "output_type": "execute_result"
    }
   ],
   "source": [
    "df = df.dropna() # drop all rows that have NAN/none\n",
    "df['sum'] = (df['bytesIn']+df['bytesOut'])/1024/1024\n",
    "df"
   ]
  },
  {
   "cell_type": "code",
   "execution_count": 456,
   "id": "d9e186c8",
   "metadata": {},
   "outputs": [
    {
     "data": {
      "text/plain": [
       "torch.Size([5, 1])"
      ]
     },
     "execution_count": 456,
     "metadata": {},
     "output_type": "execute_result"
    }
   ],
   "source": [
    "x_data = df.iloc[:,:1]   # 첫 열만\n",
    "y_data = df.iloc[:,[-1]]  # 마지막 열만\n",
    "\n",
    "scaleF = MinMaxScaler()\n",
    "x_dataN = scaleF.fit_transform( x_data )\n",
    "\n",
    "scaleL = MinMaxScaler()\n",
    "y_dataN = scaleL.fit_transform( np.log(y_data) )\n",
    "y.shape"
   ]
  },
  {
   "cell_type": "code",
   "execution_count": 457,
   "id": "bf92fd14",
   "metadata": {},
   "outputs": [],
   "source": [
    "x = torch.FloatTensor( x_dataN ) # 특성 데이터\n",
    "y = torch.FloatTensor( y_dataN ) # 라벨"
   ]
  },
  {
   "cell_type": "code",
   "execution_count": 458,
   "id": "4982aa4d",
   "metadata": {},
   "outputs": [],
   "source": [
    "class ExpModel(Module):\n",
    "    def __init__(self):\n",
    "        super().__init__()\n",
    "        self.fc1 = Linear(1,1)\n",
    "    \n",
    "    def forward(self, x):\n",
    "        x = self.fc1(x)\n",
    "        \n",
    "        return x       \n",
    "        "
   ]
  },
  {
   "cell_type": "code",
   "execution_count": 459,
   "id": "b60cd936",
   "metadata": {},
   "outputs": [
    {
     "data": {
      "text/plain": [
       "[Parameter containing:\n",
       " tensor([[ 0.2028],\n",
       "         [ 0.0079],\n",
       "         [-0.9693],\n",
       "         [ 0.9447],\n",
       "         [-0.7295],\n",
       "         [ 1.3684],\n",
       "         [ 1.1968],\n",
       "         [ 1.0964],\n",
       "         [ 0.0383],\n",
       "         [-1.7893]], requires_grad=True),\n",
       " Parameter containing:\n",
       " tensor([-0.4078,  0.4394, -0.3012, -0.9618,  0.9876, -0.8261,  0.6742,  0.0120,\n",
       "         -0.2153,  0.4473], requires_grad=True),\n",
       " Parameter containing:\n",
       " tensor([[ 0.4105,  0.1170, -0.2045,  0.0883, -0.3839, -0.5391,  0.4216,  0.3097,\n",
       "          -0.0757, -0.3624]], requires_grad=True),\n",
       " Parameter containing:\n",
       " tensor([0.1999], requires_grad=True)]"
      ]
     },
     "execution_count": 459,
     "metadata": {},
     "output_type": "execute_result"
    }
   ],
   "source": [
    "# model = Sequential()\n",
    "# model.add_module('nn1', Linear(1,1))\n",
    "list(model.parameters())"
   ]
  },
  {
   "cell_type": "code",
   "execution_count": 460,
   "id": "4b1bb03d",
   "metadata": {},
   "outputs": [],
   "source": [
    "loss_fn = MSELoss()\n",
    "optimizer = Adam(model.parameters())"
   ]
  },
  {
   "cell_type": "code",
   "execution_count": 461,
   "id": "0c39c5b1",
   "metadata": {},
   "outputs": [
    {
     "name": "stdout",
     "output_type": "stream",
     "text": [
      "0 2.161579914172762e-06\n",
      "1000 6.396704048611604e-14\n",
      "2000 2.0092980057562215e-10\n"
     ]
    }
   ],
   "source": [
    "hist = []\n",
    "for step in range(3000):\n",
    "    optimizer.zero_grad()\n",
    "    hx = model.forward(x) # w*x+b # hx = model(x)\n",
    "    cost = loss_fn(hx, y)\n",
    "    cost.backward()\n",
    "    optimizer.step()    \n",
    "    if step % 1000 == 0:\n",
    "        print(step, cost.item())\n",
    "    hist.append(cost.item())"
   ]
  },
  {
   "cell_type": "code",
   "execution_count": 462,
   "id": "e57bf7fc",
   "metadata": {},
   "outputs": [],
   "source": [
    "# model[0].bias"
   ]
  },
  {
   "cell_type": "code",
   "execution_count": 463,
   "id": "0881d128",
   "metadata": {},
   "outputs": [
    {
     "data": {
      "image/png": "[encoded data removed]",
      "text/plain": [
       "<Figure size 640x480 with 1 Axes>"
      ]
     },
     "metadata": {},
     "output_type": "display_data"
    }
   ],
   "source": [
    "plt.plot(hist)\n",
    "plt.show()"
   ]
  },
  {
   "cell_type": "code",
   "execution_count": 464,
   "id": "178448a6",
   "metadata": {},
   "outputs": [],
   "source": [
    "# print(model[0].weight)\n",
    "# print(model[0].bias)"
   ]
  },
  {
   "cell_type": "code",
   "execution_count": 465,
   "id": "deec645c",
   "metadata": {},
   "outputs": [],
   "source": [
    "# model( torch.FloatTensor([[15]]))\n",
    "predN = model(x).detach().numpy()\n",
    "pred = scaleL.inverse_transform(predN)"
   ]
  },
  {
   "cell_type": "code",
   "execution_count": 466,
   "id": "1ddc2ec3",
   "metadata": {},
   "outputs": [
    {
     "data": {
      "image/png": "[encoded data removed]",
      "text/plain": [
       "<Figure size 640x480 with 1 Axes>"
      ]
     },
     "metadata": {},
     "output_type": "display_data"
    }
   ],
   "source": [
    "plt.ylim([0, 17])\n",
    "plt.plot(x_data, y_data, 'o', label='train data')\n",
    "# plt.scatter(x_data, y_data)\n",
    "plt.plot(x_data, np.exp(model(x).data.numpy()), '-r', linewidth=3, label='fitted') # r-- : Red, dashed line\n",
    "plt.plot(x_data, pred, '-b', linewidth=3, label='fitted') # r-- : Red, dashed line\n",
    "plt.grid()\n",
    "plt.legend()\n",
    "plt.show()"
   ]
  },
  {
   "cell_type": "code",
   "execution_count": null,
   "id": "8a40bc91",
   "metadata": {},
   "outputs": [],
   "source": []
  }
 ],
 "metadata": {
  "kernelspec": {
   "display_name": "Python 3.8.13 ('mc-perf-regression')",
   "language": "python",
   "name": "python3"
  },
  "language_info": {
   "codemirror_mode": {
    "name": "ipython",
    "version": 3
   },
   "file_extension": ".py",
   "mimetype": "text/x-python",
   "name": "python",
   "nbconvert_exporter": "python",
   "pygments_lexer": "ipython3",
   "version": "3.8.13"
  },
  "vscode": {
   "interpreter": {
    "hash": "df18979b1d7671eb92bdadbd0741e55b200657242ce0c5b22ecbe5cecfede04a"
   }
  }
 },
 "nbformat": 4,
 "nbformat_minor": 5
}
