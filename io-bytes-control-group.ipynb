{
 "cells": [
  {
   "cell_type": "code",
   "execution_count": 17,
   "id": "68d20e12",
   "metadata": {},
   "outputs": [],
   "source": [
    "import torch\n",
    "import torch.nn.functional as F\n",
    "from torch.optim import Adam\n",
    "from torch.nn import Linear, MSELoss, Sequential, Sigmoid, Softmax, ReLU, LeakyReLU, Module\n",
    "import numpy as np\n",
    "import pandas as pd\n",
    "import matplotlib.pyplot as plt\n",
    "import seaborn as sb\n",
    "\n",
    "from sklearn.preprocessing import MinMaxScaler, StandardScaler\n",
    "from scipy.interpolate import make_interp_spline, BSpline"
   ]
  },
  {
   "cell_type": "code",
   "execution_count": 18,
   "id": "a5498d4e",
   "metadata": {
    "scrolled": false
   },
   "outputs": [
    {
     "data": {
      "text/html": [
       "<div>\n",
       "<style scoped>\n",
       "    .dataframe tbody tr th:only-of-type {\n",
       "        vertical-align: middle;\n",
       "    }\n",
       "\n",
       "    .dataframe tbody tr th {\n",
       "        vertical-align: top;\n",
       "    }\n",
       "\n",
       "    .dataframe thead th {\n",
       "        text-align: right;\n",
       "    }\n",
       "</style>\n",
       "<table border=\"1\" class=\"dataframe\">\n",
       "  <thead>\n",
       "    <tr style=\"text-align: right;\">\n",
       "      <th></th>\n",
       "      <th>vms</th>\n",
       "      <th>bytesIn</th>\n",
       "      <th>bytesOut</th>\n",
       "    </tr>\n",
       "  </thead>\n",
       "  <tbody>\n",
       "    <tr>\n",
       "      <th>0</th>\n",
       "      <td>10</td>\n",
       "      <td>175738</td>\n",
       "      <td>256359</td>\n",
       "    </tr>\n",
       "    <tr>\n",
       "      <th>1</th>\n",
       "      <td>10</td>\n",
       "      <td>172706</td>\n",
       "      <td>252652</td>\n",
       "    </tr>\n",
       "    <tr>\n",
       "      <th>2</th>\n",
       "      <td>20</td>\n",
       "      <td>1236708</td>\n",
       "      <td>1543554</td>\n",
       "    </tr>\n",
       "    <tr>\n",
       "      <th>3</th>\n",
       "      <td>20</td>\n",
       "      <td>1297012</td>\n",
       "      <td>1617267</td>\n",
       "    </tr>\n",
       "    <tr>\n",
       "      <th>4</th>\n",
       "      <td>30</td>\n",
       "      <td>3313888</td>\n",
       "      <td>3832667</td>\n",
       "    </tr>\n",
       "    <tr>\n",
       "      <th>5</th>\n",
       "      <td>30</td>\n",
       "      <td>3386892</td>\n",
       "      <td>3897552</td>\n",
       "    </tr>\n",
       "    <tr>\n",
       "      <th>6</th>\n",
       "      <td>40</td>\n",
       "      <td>8850857</td>\n",
       "      <td>9529250</td>\n",
       "    </tr>\n",
       "    <tr>\n",
       "      <th>7</th>\n",
       "      <td>40</td>\n",
       "      <td>7319968</td>\n",
       "      <td>8280876</td>\n",
       "    </tr>\n",
       "    <tr>\n",
       "      <th>8</th>\n",
       "      <td>50</td>\n",
       "      <td>10200611</td>\n",
       "      <td>11349472</td>\n",
       "    </tr>\n",
       "    <tr>\n",
       "      <th>9</th>\n",
       "      <td>50</td>\n",
       "      <td>10483388</td>\n",
       "      <td>11593969</td>\n",
       "    </tr>\n",
       "  </tbody>\n",
       "</table>\n",
       "</div>"
      ],
      "text/plain": [
       "   vms   bytesIn  bytesOut\n",
       "0   10    175738    256359\n",
       "1   10    172706    252652\n",
       "2   20   1236708   1543554\n",
       "3   20   1297012   1617267\n",
       "4   30   3313888   3832667\n",
       "5   30   3386892   3897552\n",
       "6   40   8850857   9529250\n",
       "7   40   7319968   8280876\n",
       "8   50  10200611  11349472\n",
       "9   50  10483388  11593969"
      ]
     },
     "execution_count": 18,
     "metadata": {},
     "output_type": "execute_result"
    }
   ],
   "source": [
    "df = pd.read_csv('io-bytes-control-group.csv')\n",
    "df"
   ]
  },
  {
   "cell_type": "code",
   "execution_count": 19,
   "id": "ff8a6286",
   "metadata": {},
   "outputs": [
    {
     "data": {
      "text/html": [
       "<div>\n",
       "<style scoped>\n",
       "    .dataframe tbody tr th:only-of-type {\n",
       "        vertical-align: middle;\n",
       "    }\n",
       "\n",
       "    .dataframe tbody tr th {\n",
       "        vertical-align: top;\n",
       "    }\n",
       "\n",
       "    .dataframe thead th {\n",
       "        text-align: right;\n",
       "    }\n",
       "</style>\n",
       "<table border=\"1\" class=\"dataframe\">\n",
       "  <thead>\n",
       "    <tr style=\"text-align: right;\">\n",
       "      <th></th>\n",
       "      <th>vms</th>\n",
       "      <th>bytesIn</th>\n",
       "      <th>bytesOut</th>\n",
       "    </tr>\n",
       "  </thead>\n",
       "  <tbody>\n",
       "    <tr>\n",
       "      <th>vms</th>\n",
       "      <td>1.000000</td>\n",
       "      <td>0.972422</td>\n",
       "      <td>0.976842</td>\n",
       "    </tr>\n",
       "    <tr>\n",
       "      <th>bytesIn</th>\n",
       "      <td>0.972422</td>\n",
       "      <td>1.000000</td>\n",
       "      <td>0.999652</td>\n",
       "    </tr>\n",
       "    <tr>\n",
       "      <th>bytesOut</th>\n",
       "      <td>0.976842</td>\n",
       "      <td>0.999652</td>\n",
       "      <td>1.000000</td>\n",
       "    </tr>\n",
       "  </tbody>\n",
       "</table>\n",
       "</div>"
      ],
      "text/plain": [
       "               vms   bytesIn  bytesOut\n",
       "vms       1.000000  0.972422  0.976842\n",
       "bytesIn   0.972422  1.000000  0.999652\n",
       "bytesOut  0.976842  0.999652  1.000000"
      ]
     },
     "execution_count": 19,
     "metadata": {},
     "output_type": "execute_result"
    }
   ],
   "source": [
    "df.corr()"
   ]
  },
  {
   "cell_type": "code",
   "execution_count": 20,
   "id": "b0846ba5",
   "metadata": {},
   "outputs": [
    {
     "data": {
      "image/png": "[encoded data removed]",
      "text/plain": [
       "<Figure size 640x480 with 2 Axes>"
      ]
     },
     "metadata": {},
     "output_type": "display_data"
    }
   ],
   "source": [
    "# plt.figure(figsize=(10,10))\n",
    "sb.heatmap( df.corr(), vmin=-1, vmax=1, annot=True, linewidths=0.2, cmap='seismic' )\n",
    "plt.show()"
   ]
  },
  {
   "cell_type": "code",
   "execution_count": 21,
   "id": "b8b4d0ae",
   "metadata": {},
   "outputs": [
    {
     "data": {
      "text/html": [
       "<div>\n",
       "<style scoped>\n",
       "    .dataframe tbody tr th:only-of-type {\n",
       "        vertical-align: middle;\n",
       "    }\n",
       "\n",
       "    .dataframe tbody tr th {\n",
       "        vertical-align: top;\n",
       "    }\n",
       "\n",
       "    .dataframe thead th {\n",
       "        text-align: right;\n",
       "    }\n",
       "</style>\n",
       "<table border=\"1\" class=\"dataframe\">\n",
       "  <thead>\n",
       "    <tr style=\"text-align: right;\">\n",
       "      <th></th>\n",
       "      <th>squared_vms</th>\n",
       "      <th>vms</th>\n",
       "      <th>bytesIn</th>\n",
       "      <th>bytesOut</th>\n",
       "      <th>sum</th>\n",
       "    </tr>\n",
       "  </thead>\n",
       "  <tbody>\n",
       "    <tr>\n",
       "      <th>0</th>\n",
       "      <td>100</td>\n",
       "      <td>10</td>\n",
       "      <td>175738</td>\n",
       "      <td>256359</td>\n",
       "      <td>421.969727</td>\n",
       "    </tr>\n",
       "    <tr>\n",
       "      <th>1</th>\n",
       "      <td>100</td>\n",
       "      <td>10</td>\n",
       "      <td>172706</td>\n",
       "      <td>252652</td>\n",
       "      <td>415.388672</td>\n",
       "    </tr>\n",
       "    <tr>\n",
       "      <th>2</th>\n",
       "      <td>400</td>\n",
       "      <td>20</td>\n",
       "      <td>1236708</td>\n",
       "      <td>1543554</td>\n",
       "      <td>2715.099609</td>\n",
       "    </tr>\n",
       "    <tr>\n",
       "      <th>3</th>\n",
       "      <td>400</td>\n",
       "      <td>20</td>\n",
       "      <td>1297012</td>\n",
       "      <td>1617267</td>\n",
       "      <td>2845.975586</td>\n",
       "    </tr>\n",
       "    <tr>\n",
       "      <th>4</th>\n",
       "      <td>900</td>\n",
       "      <td>30</td>\n",
       "      <td>3313888</td>\n",
       "      <td>3832667</td>\n",
       "      <td>6979.057617</td>\n",
       "    </tr>\n",
       "    <tr>\n",
       "      <th>5</th>\n",
       "      <td>900</td>\n",
       "      <td>30</td>\n",
       "      <td>3386892</td>\n",
       "      <td>3897552</td>\n",
       "      <td>7113.714844</td>\n",
       "    </tr>\n",
       "    <tr>\n",
       "      <th>6</th>\n",
       "      <td>1600</td>\n",
       "      <td>40</td>\n",
       "      <td>8850857</td>\n",
       "      <td>9529250</td>\n",
       "      <td>17949.323242</td>\n",
       "    </tr>\n",
       "    <tr>\n",
       "      <th>7</th>\n",
       "      <td>1600</td>\n",
       "      <td>40</td>\n",
       "      <td>7319968</td>\n",
       "      <td>8280876</td>\n",
       "      <td>15235.199219</td>\n",
       "    </tr>\n",
       "    <tr>\n",
       "      <th>8</th>\n",
       "      <td>2500</td>\n",
       "      <td>50</td>\n",
       "      <td>10200611</td>\n",
       "      <td>11349472</td>\n",
       "      <td>21045.002930</td>\n",
       "    </tr>\n",
       "    <tr>\n",
       "      <th>9</th>\n",
       "      <td>2500</td>\n",
       "      <td>50</td>\n",
       "      <td>10483388</td>\n",
       "      <td>11593969</td>\n",
       "      <td>21559.918945</td>\n",
       "    </tr>\n",
       "  </tbody>\n",
       "</table>\n",
       "</div>"
      ],
      "text/plain": [
       "   squared_vms  vms   bytesIn  bytesOut           sum\n",
       "0          100   10    175738    256359    421.969727\n",
       "1          100   10    172706    252652    415.388672\n",
       "2          400   20   1236708   1543554   2715.099609\n",
       "3          400   20   1297012   1617267   2845.975586\n",
       "4          900   30   3313888   3832667   6979.057617\n",
       "5          900   30   3386892   3897552   7113.714844\n",
       "6         1600   40   8850857   9529250  17949.323242\n",
       "7         1600   40   7319968   8280876  15235.199219\n",
       "8         2500   50  10200611  11349472  21045.002930\n",
       "9         2500   50  10483388  11593969  21559.918945"
      ]
     },
     "execution_count": 21,
     "metadata": {},
     "output_type": "execute_result"
    }
   ],
   "source": [
    "df = df.dropna() # drop all rows that have NAN/none\n",
    "df['sum'] = (df['bytesIn']+df['bytesOut'])/1024\n",
    "df.insert(0, \"squared_vms\", df['vms']**2, True)\n",
    "df"
   ]
  },
  {
   "cell_type": "code",
   "execution_count": 22,
   "id": "d9e186c8",
   "metadata": {},
   "outputs": [
    {
     "name": "stdout",
     "output_type": "stream",
     "text": [
      "(10, 2)\n"
     ]
    }
   ],
   "source": [
    "x_data = df.iloc[:,:2].values # 0, 1 열 (x^2 + x)\n",
    "y_data = df.iloc[:,[-1]].values  # 마지막 열만\n",
    "print(x_data.shape)"
   ]
  },
  {
   "cell_type": "code",
   "execution_count": 23,
   "id": "c2969439",
   "metadata": {},
   "outputs": [
    {
     "data": {
      "text/plain": [
       "array([[0.        , 0.        ],\n",
       "       [0.        , 0.        ],\n",
       "       [0.125     , 0.25      ],\n",
       "       [0.125     , 0.25      ],\n",
       "       [0.33333333, 0.5       ],\n",
       "       [0.33333333, 0.5       ],\n",
       "       [0.625     , 0.75      ],\n",
       "       [0.625     , 0.75      ],\n",
       "       [1.        , 1.        ],\n",
       "       [1.        , 1.        ]])"
      ]
     },
     "execution_count": 23,
     "metadata": {},
     "output_type": "execute_result"
    }
   ],
   "source": [
    "scaleF = MinMaxScaler()\n",
    "x_dataN = scaleF.fit_transform( x_data )\n",
    "\n",
    "scaleL = MinMaxScaler()\n",
    "y_dataN = scaleL.fit_transform( y_data )\n",
    "y_dataN.shape\n",
    "\n",
    "x_dataN"
   ]
  },
  {
   "cell_type": "code",
   "execution_count": 24,
   "id": "bf92fd14",
   "metadata": {},
   "outputs": [],
   "source": [
    "x = torch.FloatTensor(x_dataN) # 특성 데이터\n",
    "y = torch.FloatTensor(y_dataN) # 라벨"
   ]
  },
  {
   "cell_type": "code",
   "execution_count": 25,
   "id": "b18946df",
   "metadata": {},
   "outputs": [],
   "source": [
    "class ExpModel(Module):\n",
    "    def __init__(self):\n",
    "        super().__init__()\n",
    "        self.fc1 = Linear(2,1)\n",
    "    \n",
    "    def forward(self, x):        \n",
    "        x = self.fc1(x)\n",
    "        \n",
    "        return x       \n",
    "        "
   ]
  },
  {
   "cell_type": "code",
   "execution_count": 26,
   "id": "b60cd936",
   "metadata": {},
   "outputs": [
    {
     "data": {
      "text/plain": [
       "[Parameter containing:\n",
       " tensor([[0.6488, 0.1607]], requires_grad=True),\n",
       " Parameter containing:\n",
       " tensor([0.4585], requires_grad=True)]"
      ]
     },
     "execution_count": 26,
     "metadata": {},
     "output_type": "execute_result"
    }
   ],
   "source": [
    "# model = Sequential()\n",
    "# model.add_module('nn1', Linear(1,1))\n",
    "model = ExpModel()\n",
    "list(model.parameters())"
   ]
  },
  {
   "cell_type": "code",
   "execution_count": 27,
   "id": "4b1bb03d",
   "metadata": {},
   "outputs": [],
   "source": [
    "loss_fn = MSELoss()\n",
    "optimizer = Adam(model.parameters())"
   ]
  },
  {
   "cell_type": "code",
   "execution_count": 28,
   "id": "0c39c5b1",
   "metadata": {},
   "outputs": [
    {
     "name": "stdout",
     "output_type": "stream",
     "text": [
      "0 0.15098603069782257\n",
      "100 0.06819117814302444\n",
      "200 0.044781189411878586\n",
      "300 0.03388632833957672\n",
      "400 0.025240769609808922\n",
      "500 0.01841677539050579\n",
      "600 0.013354979455471039\n",
      "700 0.009807439520955086\n",
      "800 0.007451297249644995\n",
      "900 0.005967232398688793\n",
      "1000 0.0050810882821679115\n",
      "1100 0.0045799678191542625\n",
      "1200 0.004311917815357447\n",
      "1300 0.004176467191427946\n",
      "1400 0.004111872985959053\n",
      "1500 0.004082804080098867\n",
      "1600 0.0040704174898564816\n",
      "1700 0.004065359476953745\n",
      "1800 0.004063301719725132\n",
      "1900 0.004062382038682699\n",
      "2000 0.004061862826347351\n",
      "2100 0.00406147725880146\n",
      "2200 0.00406112102791667\n",
      "2300 0.004060768522322178\n",
      "2400 0.004060415551066399\n",
      "2500 0.004060060251504183\n",
      "2600 0.004059703554958105\n",
      "2700 0.0040593454614281654\n",
      "2800 0.0040589869022369385\n",
      "2900 0.004058629274368286\n"
     ]
    }
   ],
   "source": [
    "hist = []\n",
    "for step in range(3000):\n",
    "    optimizer.zero_grad()\n",
    "    hx = model.forward(x) # w*x+b # hx = model(x)\n",
    "    cost = loss_fn(hx, y)\n",
    "    cost.backward()\n",
    "    optimizer.step()\n",
    "    if step % 100 == 0:\n",
    "        print(step, cost.item())\n",
    "    hist.append(cost.item())"
   ]
  },
  {
   "cell_type": "code",
   "execution_count": 29,
   "id": "0881d128",
   "metadata": {},
   "outputs": [
    {
     "data": {
      "image/png": "[encoded data removed]",
      "text/plain": [
       "<Figure size 640x480 with 1 Axes>"
      ]
     },
     "metadata": {},
     "output_type": "display_data"
    }
   ],
   "source": [
    "plt.plot(hist)\n",
    "plt.show()"
   ]
  },
  {
   "cell_type": "code",
   "execution_count": 30,
   "id": "178448a6",
   "metadata": {},
   "outputs": [
    {
     "data": {
      "text/plain": [
       "[Parameter containing:\n",
       " tensor([[0.8427, 0.2078]], requires_grad=True),\n",
       " Parameter containing:\n",
       " tensor([-0.0193], requires_grad=True)]"
      ]
     },
     "execution_count": 30,
     "metadata": {},
     "output_type": "execute_result"
    }
   ],
   "source": [
    "list(model.parameters())"
   ]
  },
  {
   "cell_type": "code",
   "execution_count": 31,
   "id": "deec645c",
   "metadata": {},
   "outputs": [
    {
     "data": {
      "text/plain": [
       "array([[6.59360456e+00],\n",
       "       [1.17675186e+02],\n",
       "       [2.43017868e+02],\n",
       "       [3.82621643e+02],\n",
       "       [5.36486572e+02],\n",
       "       [7.04612610e+02],\n",
       "       [8.86999695e+02],\n",
       "       [1.08364795e+03],\n",
       "       [1.29455725e+03],\n",
       "       [1.51972766e+03],\n",
       "       [1.75915918e+03],\n",
       "       [2.01285193e+03],\n",
       "       [2.28080566e+03],\n",
       "       [2.56302051e+03],\n",
       "       [2.85949658e+03],\n",
       "       [3.17023340e+03],\n",
       "       [3.49523169e+03],\n",
       "       [3.83449121e+03],\n",
       "       [4.18801123e+03],\n",
       "       [4.55579297e+03],\n",
       "       [4.93783545e+03],\n",
       "       [5.33413867e+03],\n",
       "       [5.74470410e+03],\n",
       "       [6.16953027e+03],\n",
       "       [6.60861719e+03],\n",
       "       [7.06196533e+03],\n",
       "       [7.52957471e+03],\n",
       "       [8.01144434e+03],\n",
       "       [8.50757617e+03],\n",
       "       [9.01796875e+03],\n",
       "       [9.54262305e+03],\n",
       "       [1.00815371e+04],\n",
       "       [1.06347139e+04],\n",
       "       [1.12021504e+04],\n",
       "       [1.17838486e+04],\n",
       "       [1.23798076e+04],\n",
       "       [1.29900264e+04],\n",
       "       [1.36145088e+04],\n",
       "       [1.42532510e+04],\n",
       "       [1.49062549e+04],\n",
       "       [1.55735205e+04],\n",
       "       [1.62550459e+04],\n",
       "       [1.69508340e+04],\n",
       "       [1.76608789e+04],\n",
       "       [1.83851895e+04],\n",
       "       [1.91237598e+04],\n",
       "       [1.98765918e+04],\n",
       "       [2.06436855e+04],\n",
       "       [2.14250371e+04],\n",
       "       [2.22206523e+04]], dtype=float32)"
      ]
     },
     "execution_count": 31,
     "metadata": {},
     "output_type": "execute_result"
    }
   ],
   "source": [
    "# Dummy data to draw smooth graph\n",
    "x_axis = np.linspace(1,50,50) # [ 1 , 2, 3, 4, ...., 50]\n",
    "x_dummy = [[xval**2, xval] for xval in x_axis]\n",
    "scaleF = MinMaxScaler()\n",
    "x_dummyN = scaleF.fit_transform( x_dummy )\n",
    "\n",
    "predN = model(torch.FloatTensor(x_dummyN)).detach().numpy()\n",
    "pred = scaleL.inverse_transform(predN)\n",
    "pred"
   ]
  },
  {
   "cell_type": "code",
   "execution_count": 32,
   "id": "1ddc2ec3",
   "metadata": {},
   "outputs": [
    {
     "data": {
      "image/png": "[encoded data removed]",
      "text/plain": [
       "<Figure size 640x480 with 1 Axes>"
      ]
     },
     "metadata": {},
     "output_type": "display_data"
    }
   ],
   "source": [
    "# plt.ylim([0, 25000])\n",
    "plt.plot(x_data[:,[1]], y_data, 'o', label='train data')\n",
    "# plt.scatter(x_data, y_data)\n",
    "# plt.plot(x_data[:,1], np.exp(model(x).data.numpy()), '-r', linewidth=3, label='fitted') # r-- : Red, dashed line\n",
    "\n",
    "plt.plot(x_axis, pred, 'r--', linewidth=3, label='fitted') # r-- : Red, dashed line\n",
    "# plt.grid()\n",
    "plt.legend()\n",
    "plt.show()"
   ]
  }
 ],
 "metadata": {
  "kernelspec": {
   "display_name": "Python 3.8.13 ('mc-perf-regression')",
   "language": "python",
   "name": "python3"
  },
  "language_info": {
   "codemirror_mode": {
    "name": "ipython",
    "version": 3
   },
   "file_extension": ".py",
   "mimetype": "text/x-python",
   "name": "python",
   "nbconvert_exporter": "python",
   "pygments_lexer": "ipython3",
   "version": "3.8.13"
  },
  "vscode": {
   "interpreter": {
    "hash": "df18979b1d7671eb92bdadbd0741e55b200657242ce0c5b22ecbe5cecfede04a"
   }
  }
 },
 "nbformat": 4,
 "nbformat_minor": 5
}
