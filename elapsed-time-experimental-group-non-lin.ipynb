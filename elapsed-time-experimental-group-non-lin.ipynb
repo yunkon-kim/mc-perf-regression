{
 "cells": [
  {
   "cell_type": "code",
   "execution_count": 222,
   "id": "68d20e12",
   "metadata": {},
   "outputs": [],
   "source": [
    "import torch\n",
    "import torch.nn.functional as F\n",
    "from torch.optim import Adam\n",
    "from torch.nn import Linear, MSELoss, Sequential, Sigmoid, Softmax, ReLU, LeakyReLU, Module\n",
    "import numpy as np\n",
    "import pandas as pd\n",
    "import matplotlib.pyplot as plt\n",
    "import seaborn as sb\n",
    "\n",
    "from sklearn.preprocessing import MinMaxScaler, StandardScaler\n",
    "from sklearn.metrics import r2_score\n",
    "from scipy.interpolate import make_interp_spline, BSpline"
   ]
  },
  {
   "cell_type": "code",
   "execution_count": 223,
   "id": "a5498d4e",
   "metadata": {
    "scrolled": false
   },
   "outputs": [
    {
     "data": {
      "text/html": [
       "<div>\n",
       "<style scoped>\n",
       "    .dataframe tbody tr th:only-of-type {\n",
       "        vertical-align: middle;\n",
       "    }\n",
       "\n",
       "    .dataframe tbody tr th {\n",
       "        vertical-align: top;\n",
       "    }\n",
       "\n",
       "    .dataframe thead th {\n",
       "        text-align: right;\n",
       "    }\n",
       "</style>\n",
       "<table border=\"1\" class=\"dataframe\">\n",
       "  <thead>\n",
       "    <tr style=\"text-align: right;\">\n",
       "      <th></th>\n",
       "      <th>vms</th>\n",
       "      <th>elapsed</th>\n",
       "    </tr>\n",
       "  </thead>\n",
       "  <tbody>\n",
       "    <tr>\n",
       "      <th>0</th>\n",
       "      <td>10</td>\n",
       "      <td>19.7</td>\n",
       "    </tr>\n",
       "    <tr>\n",
       "      <th>1</th>\n",
       "      <td>10</td>\n",
       "      <td>17.7</td>\n",
       "    </tr>\n",
       "    <tr>\n",
       "      <th>2</th>\n",
       "      <td>10</td>\n",
       "      <td>30.2</td>\n",
       "    </tr>\n",
       "    <tr>\n",
       "      <th>3</th>\n",
       "      <td>20</td>\n",
       "      <td>28.7</td>\n",
       "    </tr>\n",
       "    <tr>\n",
       "      <th>4</th>\n",
       "      <td>20</td>\n",
       "      <td>35.0</td>\n",
       "    </tr>\n",
       "    <tr>\n",
       "      <th>5</th>\n",
       "      <td>20</td>\n",
       "      <td>27.5</td>\n",
       "    </tr>\n",
       "    <tr>\n",
       "      <th>6</th>\n",
       "      <td>30</td>\n",
       "      <td>44.3</td>\n",
       "    </tr>\n",
       "    <tr>\n",
       "      <th>7</th>\n",
       "      <td>30</td>\n",
       "      <td>41.1</td>\n",
       "    </tr>\n",
       "    <tr>\n",
       "      <th>8</th>\n",
       "      <td>40</td>\n",
       "      <td>69.2</td>\n",
       "    </tr>\n",
       "    <tr>\n",
       "      <th>9</th>\n",
       "      <td>40</td>\n",
       "      <td>53.1</td>\n",
       "    </tr>\n",
       "    <tr>\n",
       "      <th>10</th>\n",
       "      <td>40</td>\n",
       "      <td>54.6</td>\n",
       "    </tr>\n",
       "    <tr>\n",
       "      <th>11</th>\n",
       "      <td>50</td>\n",
       "      <td>106.7</td>\n",
       "    </tr>\n",
       "    <tr>\n",
       "      <th>12</th>\n",
       "      <td>50</td>\n",
       "      <td>106.9</td>\n",
       "    </tr>\n",
       "    <tr>\n",
       "      <th>13</th>\n",
       "      <td>50</td>\n",
       "      <td>63.9</td>\n",
       "    </tr>\n",
       "    <tr>\n",
       "      <th>14</th>\n",
       "      <td>50</td>\n",
       "      <td>66.2</td>\n",
       "    </tr>\n",
       "  </tbody>\n",
       "</table>\n",
       "</div>"
      ],
      "text/plain": [
       "    vms  elapsed\n",
       "0    10     19.7\n",
       "1    10     17.7\n",
       "2    10     30.2\n",
       "3    20     28.7\n",
       "4    20     35.0\n",
       "5    20     27.5\n",
       "6    30     44.3\n",
       "7    30     41.1\n",
       "8    40     69.2\n",
       "9    40     53.1\n",
       "10   40     54.6\n",
       "11   50    106.7\n",
       "12   50    106.9\n",
       "13   50     63.9\n",
       "14   50     66.2"
      ]
     },
     "execution_count": 223,
     "metadata": {},
     "output_type": "execute_result"
    }
   ],
   "source": [
    "df = pd.read_csv('elapsed-time-experimental-group.csv')\n",
    "df"
   ]
  },
  {
   "cell_type": "code",
   "execution_count": 224,
   "id": "b80faa6e",
   "metadata": {},
   "outputs": [],
   "source": [
    "df = df.dropna() # drop all rows that have NAN/none"
   ]
  },
  {
   "cell_type": "code",
   "execution_count": 225,
   "id": "ff8a6286",
   "metadata": {},
   "outputs": [
    {
     "data": {
      "text/html": [
       "<div>\n",
       "<style scoped>\n",
       "    .dataframe tbody tr th:only-of-type {\n",
       "        vertical-align: middle;\n",
       "    }\n",
       "\n",
       "    .dataframe tbody tr th {\n",
       "        vertical-align: top;\n",
       "    }\n",
       "\n",
       "    .dataframe thead th {\n",
       "        text-align: right;\n",
       "    }\n",
       "</style>\n",
       "<table border=\"1\" class=\"dataframe\">\n",
       "  <thead>\n",
       "    <tr style=\"text-align: right;\">\n",
       "      <th></th>\n",
       "      <th>vms</th>\n",
       "      <th>elapsed</th>\n",
       "    </tr>\n",
       "  </thead>\n",
       "  <tbody>\n",
       "    <tr>\n",
       "      <th>vms</th>\n",
       "      <td>1.000000</td>\n",
       "      <td>0.882078</td>\n",
       "    </tr>\n",
       "    <tr>\n",
       "      <th>elapsed</th>\n",
       "      <td>0.882078</td>\n",
       "      <td>1.000000</td>\n",
       "    </tr>\n",
       "  </tbody>\n",
       "</table>\n",
       "</div>"
      ],
      "text/plain": [
       "              vms   elapsed\n",
       "vms      1.000000  0.882078\n",
       "elapsed  0.882078  1.000000"
      ]
     },
     "execution_count": 225,
     "metadata": {},
     "output_type": "execute_result"
    }
   ],
   "source": [
    "df.corr()"
   ]
  },
  {
   "cell_type": "code",
   "execution_count": 226,
   "id": "6c75fea6",
   "metadata": {},
   "outputs": [
    {
     "data": {
      "image/png": "[encoded data removed]",
      "text/plain": [
       "<Figure size 640x480 with 2 Axes>"
      ]
     },
     "metadata": {},
     "output_type": "display_data"
    }
   ],
   "source": [
    "# plt.figure(figsize=(10,10))\n",
    "sb.heatmap( df.corr(), vmin=-1, vmax=1, annot=True, linewidths=0.2, cmap='seismic' )\n",
    "plt.show()"
   ]
  },
  {
   "cell_type": "code",
   "execution_count": 227,
   "id": "416e6a04",
   "metadata": {},
   "outputs": [
    {
     "data": {
      "text/html": [
       "<div>\n",
       "<style scoped>\n",
       "    .dataframe tbody tr th:only-of-type {\n",
       "        vertical-align: middle;\n",
       "    }\n",
       "\n",
       "    .dataframe tbody tr th {\n",
       "        vertical-align: top;\n",
       "    }\n",
       "\n",
       "    .dataframe thead th {\n",
       "        text-align: right;\n",
       "    }\n",
       "</style>\n",
       "<table border=\"1\" class=\"dataframe\">\n",
       "  <thead>\n",
       "    <tr style=\"text-align: right;\">\n",
       "      <th></th>\n",
       "      <th>squared_vms</th>\n",
       "      <th>vms</th>\n",
       "      <th>elapsed</th>\n",
       "    </tr>\n",
       "  </thead>\n",
       "  <tbody>\n",
       "    <tr>\n",
       "      <th>0</th>\n",
       "      <td>100</td>\n",
       "      <td>10</td>\n",
       "      <td>19.7</td>\n",
       "    </tr>\n",
       "    <tr>\n",
       "      <th>1</th>\n",
       "      <td>100</td>\n",
       "      <td>10</td>\n",
       "      <td>17.7</td>\n",
       "    </tr>\n",
       "    <tr>\n",
       "      <th>2</th>\n",
       "      <td>100</td>\n",
       "      <td>10</td>\n",
       "      <td>30.2</td>\n",
       "    </tr>\n",
       "    <tr>\n",
       "      <th>3</th>\n",
       "      <td>400</td>\n",
       "      <td>20</td>\n",
       "      <td>28.7</td>\n",
       "    </tr>\n",
       "    <tr>\n",
       "      <th>4</th>\n",
       "      <td>400</td>\n",
       "      <td>20</td>\n",
       "      <td>35.0</td>\n",
       "    </tr>\n",
       "    <tr>\n",
       "      <th>5</th>\n",
       "      <td>400</td>\n",
       "      <td>20</td>\n",
       "      <td>27.5</td>\n",
       "    </tr>\n",
       "    <tr>\n",
       "      <th>6</th>\n",
       "      <td>900</td>\n",
       "      <td>30</td>\n",
       "      <td>44.3</td>\n",
       "    </tr>\n",
       "    <tr>\n",
       "      <th>7</th>\n",
       "      <td>900</td>\n",
       "      <td>30</td>\n",
       "      <td>41.1</td>\n",
       "    </tr>\n",
       "    <tr>\n",
       "      <th>8</th>\n",
       "      <td>1600</td>\n",
       "      <td>40</td>\n",
       "      <td>69.2</td>\n",
       "    </tr>\n",
       "    <tr>\n",
       "      <th>9</th>\n",
       "      <td>1600</td>\n",
       "      <td>40</td>\n",
       "      <td>53.1</td>\n",
       "    </tr>\n",
       "    <tr>\n",
       "      <th>10</th>\n",
       "      <td>1600</td>\n",
       "      <td>40</td>\n",
       "      <td>54.6</td>\n",
       "    </tr>\n",
       "    <tr>\n",
       "      <th>11</th>\n",
       "      <td>2500</td>\n",
       "      <td>50</td>\n",
       "      <td>106.7</td>\n",
       "    </tr>\n",
       "    <tr>\n",
       "      <th>12</th>\n",
       "      <td>2500</td>\n",
       "      <td>50</td>\n",
       "      <td>106.9</td>\n",
       "    </tr>\n",
       "    <tr>\n",
       "      <th>13</th>\n",
       "      <td>2500</td>\n",
       "      <td>50</td>\n",
       "      <td>63.9</td>\n",
       "    </tr>\n",
       "    <tr>\n",
       "      <th>14</th>\n",
       "      <td>2500</td>\n",
       "      <td>50</td>\n",
       "      <td>66.2</td>\n",
       "    </tr>\n",
       "  </tbody>\n",
       "</table>\n",
       "</div>"
      ],
      "text/plain": [
       "    squared_vms  vms  elapsed\n",
       "0           100   10     19.7\n",
       "1           100   10     17.7\n",
       "2           100   10     30.2\n",
       "3           400   20     28.7\n",
       "4           400   20     35.0\n",
       "5           400   20     27.5\n",
       "6           900   30     44.3\n",
       "7           900   30     41.1\n",
       "8          1600   40     69.2\n",
       "9          1600   40     53.1\n",
       "10         1600   40     54.6\n",
       "11         2500   50    106.7\n",
       "12         2500   50    106.9\n",
       "13         2500   50     63.9\n",
       "14         2500   50     66.2"
      ]
     },
     "execution_count": 227,
     "metadata": {},
     "output_type": "execute_result"
    }
   ],
   "source": [
    "df = df.dropna() # drop all rows that have NAN/none\n",
    "df.insert(0, \"squared_vms\", df['vms']**2, True)\n",
    "df"
   ]
  },
  {
   "cell_type": "code",
   "execution_count": 228,
   "id": "6973e2d0",
   "metadata": {},
   "outputs": [
    {
     "name": "stdout",
     "output_type": "stream",
     "text": [
      "(15, 2)\n"
     ]
    }
   ],
   "source": [
    "x_data = df.iloc[:,:2].values # 0, 1 열 (x^2 + x)\n",
    "y_data = df.iloc[:,[-1]].values  # 마지막 열만\n",
    "print(x_data.shape)"
   ]
  },
  {
   "cell_type": "code",
   "execution_count": 229,
   "id": "34812245",
   "metadata": {},
   "outputs": [
    {
     "data": {
      "text/plain": [
       "array([[0.        , 0.        ],\n",
       "       [0.        , 0.        ],\n",
       "       [0.        , 0.        ],\n",
       "       [0.125     , 0.25      ],\n",
       "       [0.125     , 0.25      ],\n",
       "       [0.125     , 0.25      ],\n",
       "       [0.33333333, 0.5       ],\n",
       "       [0.33333333, 0.5       ],\n",
       "       [0.625     , 0.75      ],\n",
       "       [0.625     , 0.75      ],\n",
       "       [0.625     , 0.75      ],\n",
       "       [1.        , 1.        ],\n",
       "       [1.        , 1.        ],\n",
       "       [1.        , 1.        ],\n",
       "       [1.        , 1.        ]])"
      ]
     },
     "execution_count": 229,
     "metadata": {},
     "output_type": "execute_result"
    }
   ],
   "source": [
    "scaleF = MinMaxScaler()\n",
    "x_dataN = scaleF.fit_transform( x_data )\n",
    "\n",
    "scaleL = MinMaxScaler()\n",
    "y_dataN = scaleL.fit_transform( y_data )\n",
    "y_dataN.shape\n",
    "\n",
    "x_dataN"
   ]
  },
  {
   "cell_type": "code",
   "execution_count": 230,
   "id": "bf92fd14",
   "metadata": {},
   "outputs": [],
   "source": [
    "x = torch.FloatTensor(x_dataN) # 특성 데이터\n",
    "y = torch.FloatTensor(y_dataN) # 라벨"
   ]
  },
  {
   "cell_type": "code",
   "execution_count": 231,
   "id": "d22dec17",
   "metadata": {},
   "outputs": [],
   "source": [
    "class ExpModel(Module):\n",
    "    def __init__(self):\n",
    "        super().__init__()\n",
    "        self.fc1 = Linear(2,1)\n",
    "    \n",
    "    def forward(self, x):        \n",
    "        x = self.fc1(x)\n",
    "        \n",
    "        return x   "
   ]
  },
  {
   "cell_type": "code",
   "execution_count": 232,
   "id": "b60cd936",
   "metadata": {},
   "outputs": [
    {
     "data": {
      "text/plain": [
       "[Parameter containing:\n",
       " tensor([[0.6508, 0.3928]], requires_grad=True),\n",
       " Parameter containing:\n",
       " tensor([0.3219], requires_grad=True)]"
      ]
     },
     "execution_count": 232,
     "metadata": {},
     "output_type": "execute_result"
    }
   ],
   "source": [
    "# model = Sequential()\n",
    "# model.add_module('nn1', Linear(1,1))\n",
    "model = ExpModel()\n",
    "list(model.parameters())"
   ]
  },
  {
   "cell_type": "code",
   "execution_count": 233,
   "id": "4b1bb03d",
   "metadata": {},
   "outputs": [],
   "source": [
    "loss_fn = MSELoss()\n",
    "optimizer = Adam(model.parameters())"
   ]
  },
  {
   "cell_type": "code",
   "execution_count": 234,
   "id": "0c39c5b1",
   "metadata": {},
   "outputs": [
    {
     "name": "stdout",
     "output_type": "stream",
     "text": [
      "0 0.2437995970249176\n",
      "100 0.09733428806066513\n",
      "200 0.03942311555147171\n",
      "300 0.02294653095304966\n",
      "400 0.019529830664396286\n",
      "500 0.018818097189068794\n",
      "600 0.01850353367626667\n",
      "700 0.01826784946024418\n",
      "800 0.018082046881318092\n",
      "900 0.017940301448106766\n",
      "1000 0.017836034297943115\n",
      "1100 0.017761847004294395\n",
      "1200 0.017710531130433083\n",
      "1300 0.017675744369626045\n",
      "1400 0.01765231229364872\n",
      "1500 0.01763630472123623\n",
      "1600 0.017624864354729652\n",
      "1700 0.017616072669625282\n",
      "1800 0.017608681693673134\n",
      "1900 0.01760193519294262\n",
      "2000 0.017595384269952774\n",
      "2100 0.017588792368769646\n",
      "2200 0.017582034692168236\n",
      "2300 0.01757504604756832\n",
      "2400 0.01756780408322811\n",
      "2500 0.017560278996825218\n",
      "2600 0.017552489414811134\n",
      "2700 0.017544418573379517\n",
      "2800 0.01753607764840126\n",
      "2900 0.017527466639876366\n"
     ]
    }
   ],
   "source": [
    "hist = []\n",
    "for step in range(3000):\n",
    "    optimizer.zero_grad()\n",
    "    hx = model.forward(x) # w*x+b # hx = model(x)\n",
    "    cost = loss_fn(hx, y)\n",
    "    cost.backward()\n",
    "    optimizer.step()\n",
    "    if step % 100 == 0:\n",
    "        print(step, cost.item())\n",
    "    hist.append(cost.item())"
   ]
  },
  {
   "cell_type": "code",
   "execution_count": 235,
   "id": "0881d128",
   "metadata": {},
   "outputs": [
    {
     "data": {
      "image/png": "[encoded data removed]",
      "text/plain": [
       "<Figure size 640x480 with 1 Axes>"
      ]
     },
     "metadata": {},
     "output_type": "display_data"
    }
   ],
   "source": [
    "plt.plot(hist)\n",
    "plt.show()"
   ]
  },
  {
   "cell_type": "code",
   "execution_count": 236,
   "id": "178448a6",
   "metadata": {},
   "outputs": [
    {
     "data": {
      "text/plain": [
       "[Parameter containing:\n",
       " tensor([[0.5441, 0.1644]], requires_grad=True),\n",
       " Parameter containing:\n",
       " tensor([0.0345], requires_grad=True)]"
      ]
     },
     "execution_count": 236,
     "metadata": {},
     "output_type": "execute_result"
    }
   ],
   "source": [
    "list(model.parameters())"
   ]
  },
  {
   "cell_type": "markdown",
   "id": "a5918860",
   "metadata": {},
   "source": [
    "## w,b검정지표: 결정계수(선형회귀)\n",
    "- 0 <= 결정계수 <= 1 (0.5 이상이면 예측으로 활용가능하다.)\n",
    "- 1 - (오차의 제곱합)/(편차의 제곱합)\n",
    "- 오차: 실제 값과 예측 값의 차이\n",
    "- 편차: 실제 값과 평균 값의 차이"
   ]
  },
  {
   "cell_type": "code",
   "execution_count": 237,
   "id": "4442150c",
   "metadata": {},
   "outputs": [
    {
     "data": {
      "text/plain": [
       "array([[0.03448357],\n",
       "       [0.03448357],\n",
       "       [0.03448357],\n",
       "       [0.14360024],\n",
       "       [0.14360024],\n",
       "       [0.14360024],\n",
       "       [0.29806012],\n",
       "       [0.29806012],\n",
       "       [0.49786314],\n",
       "       [0.49786314],\n",
       "       [0.49786314],\n",
       "       [0.7430093 ],\n",
       "       [0.7430093 ],\n",
       "       [0.7430093 ],\n",
       "       [0.7430093 ]], dtype=float32)"
      ]
     },
     "execution_count": 237,
     "metadata": {},
     "output_type": "execute_result"
    }
   ],
   "source": [
    "pred = model(x).detach().numpy()\n",
    "pred"
   ]
  },
  {
   "cell_type": "code",
   "execution_count": 238,
   "id": "7037af1d",
   "metadata": {},
   "outputs": [
    {
     "data": {
      "text/plain": [
       "0.8089341726492729"
      ]
     },
     "execution_count": 238,
     "metadata": {},
     "output_type": "execute_result"
    }
   ],
   "source": [
    "r2_score(y_dataN, pred)"
   ]
  },
  {
   "cell_type": "code",
   "execution_count": 239,
   "id": "deec645c",
   "metadata": {},
   "outputs": [],
   "source": [
    "# Dummy data to draw smooth graph\n",
    "x_axis = np.linspace(1,50,50) # [ 1 , 2, 3, 4, ...., 50]\n",
    "x_dummy = [[xval**2, xval] for xval in x_axis]\n",
    "scaleF = MinMaxScaler()\n",
    "x_dummyN = scaleF.fit_transform( x_dummy )\n",
    "\n",
    "y_dummyN = model(torch.FloatTensor(x_dummyN)).detach().numpy()\n",
    "y_dummy = scaleL.inverse_transform(y_dummyN)"
   ]
  },
  {
   "cell_type": "code",
   "execution_count": 240,
   "id": "1ddc2ec3",
   "metadata": {},
   "outputs": [
    {
     "data": {
      "image/png": "[encoded data removed]",
      "text/plain": [
       "<Figure size 640x480 with 1 Axes>"
      ]
     },
     "metadata": {},
     "output_type": "display_data"
    }
   ],
   "source": [
    "# plt.ylim([0, 25000])\n",
    "plt.plot(x_data[:,[1]], y_data, 'o', label='train data')\n",
    "# plt.scatter(x_data, y_data)\n",
    "# plt.plot(x_data[:,1], np.exp(model(x).data.numpy()), '-r', linewidth=3, label='fitted') # r-- : Red, dashed line\n",
    "\n",
    "plt.plot(x_axis, y_dummy, 'r--', linewidth=3, label='fitted') # r-- : Red, dashed line\n",
    "# plt.grid()\n",
    "plt.legend()\n",
    "plt.show()"
   ]
  }
 ],
 "metadata": {
  "kernelspec": {
   "display_name": "Python 3.8.13 ('mc-perf-regression')",
   "language": "python",
   "name": "python3"
  },
  "language_info": {
   "codemirror_mode": {
    "name": "ipython",
    "version": 3
   },
   "file_extension": ".py",
   "mimetype": "text/x-python",
   "name": "python",
   "nbconvert_exporter": "python",
   "pygments_lexer": "ipython3",
   "version": "3.8.13"
  },
  "vscode": {
   "interpreter": {
    "hash": "df18979b1d7671eb92bdadbd0741e55b200657242ce0c5b22ecbe5cecfede04a"
   }
  }
 },
 "nbformat": 4,
 "nbformat_minor": 5
}
