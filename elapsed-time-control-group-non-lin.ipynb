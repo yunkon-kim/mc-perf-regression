{
 "cells": [
  {
   "cell_type": "code",
   "execution_count": 112,
   "id": "68d20e12",
   "metadata": {},
   "outputs": [],
   "source": [
    "import torch\n",
    "import torch.nn.functional as F\n",
    "from torch.optim import Adam\n",
    "from torch.nn import Linear, MSELoss, Sequential, Sigmoid, Softmax, ReLU, LeakyReLU, Module\n",
    "import numpy as np\n",
    "import pandas as pd\n",
    "import matplotlib.pyplot as plt\n",
    "import seaborn as sb\n",
    "\n",
    "from sklearn.preprocessing import MinMaxScaler, StandardScaler\n",
    "from sklearn.metrics import r2_score\n",
    "from scipy.interpolate import make_interp_spline, BSpline"
   ]
  },
  {
   "cell_type": "code",
   "execution_count": 113,
   "id": "a5498d4e",
   "metadata": {
    "scrolled": false
   },
   "outputs": [
    {
     "data": {
      "text/html": [
       "<div>\n",
       "<style scoped>\n",
       "    .dataframe tbody tr th:only-of-type {\n",
       "        vertical-align: middle;\n",
       "    }\n",
       "\n",
       "    .dataframe tbody tr th {\n",
       "        vertical-align: top;\n",
       "    }\n",
       "\n",
       "    .dataframe thead th {\n",
       "        text-align: right;\n",
       "    }\n",
       "</style>\n",
       "<table border=\"1\" class=\"dataframe\">\n",
       "  <thead>\n",
       "    <tr style=\"text-align: right;\">\n",
       "      <th></th>\n",
       "      <th>vms</th>\n",
       "      <th>elapsed</th>\n",
       "    </tr>\n",
       "  </thead>\n",
       "  <tbody>\n",
       "    <tr>\n",
       "      <th>0</th>\n",
       "      <td>10</td>\n",
       "      <td>19.6</td>\n",
       "    </tr>\n",
       "    <tr>\n",
       "      <th>1</th>\n",
       "      <td>10</td>\n",
       "      <td>22.3</td>\n",
       "    </tr>\n",
       "    <tr>\n",
       "      <th>2</th>\n",
       "      <td>20</td>\n",
       "      <td>40.1</td>\n",
       "    </tr>\n",
       "    <tr>\n",
       "      <th>3</th>\n",
       "      <td>20</td>\n",
       "      <td>40.9</td>\n",
       "    </tr>\n",
       "    <tr>\n",
       "      <th>4</th>\n",
       "      <td>30</td>\n",
       "      <td>63.1</td>\n",
       "    </tr>\n",
       "    <tr>\n",
       "      <th>5</th>\n",
       "      <td>30</td>\n",
       "      <td>60.3</td>\n",
       "    </tr>\n",
       "    <tr>\n",
       "      <th>6</th>\n",
       "      <td>40</td>\n",
       "      <td>100.0</td>\n",
       "    </tr>\n",
       "    <tr>\n",
       "      <th>7</th>\n",
       "      <td>40</td>\n",
       "      <td>104.8</td>\n",
       "    </tr>\n",
       "    <tr>\n",
       "      <th>8</th>\n",
       "      <td>50</td>\n",
       "      <td>132.0</td>\n",
       "    </tr>\n",
       "    <tr>\n",
       "      <th>9</th>\n",
       "      <td>50</td>\n",
       "      <td>142.3</td>\n",
       "    </tr>\n",
       "  </tbody>\n",
       "</table>\n",
       "</div>"
      ],
      "text/plain": [
       "   vms  elapsed\n",
       "0   10     19.6\n",
       "1   10     22.3\n",
       "2   20     40.1\n",
       "3   20     40.9\n",
       "4   30     63.1\n",
       "5   30     60.3\n",
       "6   40    100.0\n",
       "7   40    104.8\n",
       "8   50    132.0\n",
       "9   50    142.3"
      ]
     },
     "execution_count": 113,
     "metadata": {},
     "output_type": "execute_result"
    }
   ],
   "source": [
    "df = pd.read_csv('elapsed-time-control-group.csv')\n",
    "df"
   ]
  },
  {
   "cell_type": "code",
   "execution_count": 114,
   "id": "ff8a6286",
   "metadata": {},
   "outputs": [
    {
     "data": {
      "text/html": [
       "<div>\n",
       "<style scoped>\n",
       "    .dataframe tbody tr th:only-of-type {\n",
       "        vertical-align: middle;\n",
       "    }\n",
       "\n",
       "    .dataframe tbody tr th {\n",
       "        vertical-align: top;\n",
       "    }\n",
       "\n",
       "    .dataframe thead th {\n",
       "        text-align: right;\n",
       "    }\n",
       "</style>\n",
       "<table border=\"1\" class=\"dataframe\">\n",
       "  <thead>\n",
       "    <tr style=\"text-align: right;\">\n",
       "      <th></th>\n",
       "      <th>vms</th>\n",
       "      <th>elapsed</th>\n",
       "    </tr>\n",
       "  </thead>\n",
       "  <tbody>\n",
       "    <tr>\n",
       "      <th>vms</th>\n",
       "      <td>1.000000</td>\n",
       "      <td>0.986059</td>\n",
       "    </tr>\n",
       "    <tr>\n",
       "      <th>elapsed</th>\n",
       "      <td>0.986059</td>\n",
       "      <td>1.000000</td>\n",
       "    </tr>\n",
       "  </tbody>\n",
       "</table>\n",
       "</div>"
      ],
      "text/plain": [
       "              vms   elapsed\n",
       "vms      1.000000  0.986059\n",
       "elapsed  0.986059  1.000000"
      ]
     },
     "execution_count": 114,
     "metadata": {},
     "output_type": "execute_result"
    }
   ],
   "source": [
    "df.corr()"
   ]
  },
  {
   "cell_type": "code",
   "execution_count": 115,
   "id": "b8b4d0ae",
   "metadata": {},
   "outputs": [],
   "source": [
    "df = df.dropna() # drop all rows that have NAN/none"
   ]
  },
  {
   "cell_type": "code",
   "execution_count": 116,
   "id": "c6b19f0d",
   "metadata": {},
   "outputs": [
    {
     "data": {
      "image/png": "[encoded data removed]",
      "text/plain": [
       "<Figure size 640x480 with 2 Axes>"
      ]
     },
     "metadata": {},
     "output_type": "display_data"
    }
   ],
   "source": [
    "# plt.figure(figsize=(10,10))\n",
    "sb.heatmap( df.corr(), vmin=-1, vmax=1, annot=True, linewidths=0.2, cmap='seismic' )\n",
    "plt.show()"
   ]
  },
  {
   "cell_type": "code",
   "execution_count": 117,
   "id": "ba33ae03",
   "metadata": {},
   "outputs": [
    {
     "data": {
      "text/html": [
       "<div>\n",
       "<style scoped>\n",
       "    .dataframe tbody tr th:only-of-type {\n",
       "        vertical-align: middle;\n",
       "    }\n",
       "\n",
       "    .dataframe tbody tr th {\n",
       "        vertical-align: top;\n",
       "    }\n",
       "\n",
       "    .dataframe thead th {\n",
       "        text-align: right;\n",
       "    }\n",
       "</style>\n",
       "<table border=\"1\" class=\"dataframe\">\n",
       "  <thead>\n",
       "    <tr style=\"text-align: right;\">\n",
       "      <th></th>\n",
       "      <th>squared_vms</th>\n",
       "      <th>vms</th>\n",
       "      <th>elapsed</th>\n",
       "    </tr>\n",
       "  </thead>\n",
       "  <tbody>\n",
       "    <tr>\n",
       "      <th>0</th>\n",
       "      <td>100</td>\n",
       "      <td>10</td>\n",
       "      <td>19.6</td>\n",
       "    </tr>\n",
       "    <tr>\n",
       "      <th>1</th>\n",
       "      <td>100</td>\n",
       "      <td>10</td>\n",
       "      <td>22.3</td>\n",
       "    </tr>\n",
       "    <tr>\n",
       "      <th>2</th>\n",
       "      <td>400</td>\n",
       "      <td>20</td>\n",
       "      <td>40.1</td>\n",
       "    </tr>\n",
       "    <tr>\n",
       "      <th>3</th>\n",
       "      <td>400</td>\n",
       "      <td>20</td>\n",
       "      <td>40.9</td>\n",
       "    </tr>\n",
       "    <tr>\n",
       "      <th>4</th>\n",
       "      <td>900</td>\n",
       "      <td>30</td>\n",
       "      <td>63.1</td>\n",
       "    </tr>\n",
       "    <tr>\n",
       "      <th>5</th>\n",
       "      <td>900</td>\n",
       "      <td>30</td>\n",
       "      <td>60.3</td>\n",
       "    </tr>\n",
       "    <tr>\n",
       "      <th>6</th>\n",
       "      <td>1600</td>\n",
       "      <td>40</td>\n",
       "      <td>100.0</td>\n",
       "    </tr>\n",
       "    <tr>\n",
       "      <th>7</th>\n",
       "      <td>1600</td>\n",
       "      <td>40</td>\n",
       "      <td>104.8</td>\n",
       "    </tr>\n",
       "    <tr>\n",
       "      <th>8</th>\n",
       "      <td>2500</td>\n",
       "      <td>50</td>\n",
       "      <td>132.0</td>\n",
       "    </tr>\n",
       "    <tr>\n",
       "      <th>9</th>\n",
       "      <td>2500</td>\n",
       "      <td>50</td>\n",
       "      <td>142.3</td>\n",
       "    </tr>\n",
       "  </tbody>\n",
       "</table>\n",
       "</div>"
      ],
      "text/plain": [
       "   squared_vms  vms  elapsed\n",
       "0          100   10     19.6\n",
       "1          100   10     22.3\n",
       "2          400   20     40.1\n",
       "3          400   20     40.9\n",
       "4          900   30     63.1\n",
       "5          900   30     60.3\n",
       "6         1600   40    100.0\n",
       "7         1600   40    104.8\n",
       "8         2500   50    132.0\n",
       "9         2500   50    142.3"
      ]
     },
     "execution_count": 117,
     "metadata": {},
     "output_type": "execute_result"
    }
   ],
   "source": [
    "df = df.dropna() # drop all rows that have NAN/none\n",
    "df.insert(0, \"squared_vms\", df['vms']**2, True)\n",
    "df"
   ]
  },
  {
   "cell_type": "code",
   "execution_count": 118,
   "id": "00ff4dc7",
   "metadata": {},
   "outputs": [
    {
     "name": "stdout",
     "output_type": "stream",
     "text": [
      "(10, 2)\n"
     ]
    }
   ],
   "source": [
    "x_data = df.iloc[:,:2].values # 0, 1 열 (x^2 + x)\n",
    "y_data = df.iloc[:,[-1]].values  # 마지막 열만\n",
    "print(x_data.shape)"
   ]
  },
  {
   "cell_type": "code",
   "execution_count": 119,
   "id": "59a1b6e6",
   "metadata": {},
   "outputs": [
    {
     "data": {
      "text/plain": [
       "array([[0.        , 0.        ],\n",
       "       [0.        , 0.        ],\n",
       "       [0.125     , 0.25      ],\n",
       "       [0.125     , 0.25      ],\n",
       "       [0.33333333, 0.5       ],\n",
       "       [0.33333333, 0.5       ],\n",
       "       [0.625     , 0.75      ],\n",
       "       [0.625     , 0.75      ],\n",
       "       [1.        , 1.        ],\n",
       "       [1.        , 1.        ]])"
      ]
     },
     "execution_count": 119,
     "metadata": {},
     "output_type": "execute_result"
    }
   ],
   "source": [
    "scaleF = MinMaxScaler()\n",
    "x_dataN = scaleF.fit_transform( x_data )\n",
    "\n",
    "scaleL = MinMaxScaler()\n",
    "y_dataN = scaleL.fit_transform( y_data )\n",
    "y_dataN.shape\n",
    "\n",
    "x_dataN"
   ]
  },
  {
   "cell_type": "code",
   "execution_count": 120,
   "id": "bf92fd14",
   "metadata": {},
   "outputs": [],
   "source": [
    "x = torch.FloatTensor(x_dataN) # 특성 데이터\n",
    "y = torch.FloatTensor(y_dataN) # 라벨"
   ]
  },
  {
   "cell_type": "code",
   "execution_count": 121,
   "id": "b8015331",
   "metadata": {},
   "outputs": [],
   "source": [
    "class ExpModel(Module):\n",
    "    def __init__(self):\n",
    "        super().__init__()\n",
    "        self.fc1 = Linear(2,1)\n",
    "    \n",
    "    def forward(self, x):        \n",
    "        x = self.fc1(x)\n",
    "        \n",
    "        return x   "
   ]
  },
  {
   "cell_type": "code",
   "execution_count": 122,
   "id": "b60cd936",
   "metadata": {},
   "outputs": [
    {
     "data": {
      "text/plain": [
       "[Parameter containing:\n",
       " tensor([[0.1648, 0.2244]], requires_grad=True),\n",
       " Parameter containing:\n",
       " tensor([-0.0949], requires_grad=True)]"
      ]
     },
     "execution_count": 122,
     "metadata": {},
     "output_type": "execute_result"
    }
   ],
   "source": [
    "# model = Sequential()\n",
    "# model.add_module('nn1', Linear(1,1))\n",
    "model = ExpModel()\n",
    "list(model.parameters())"
   ]
  },
  {
   "cell_type": "code",
   "execution_count": 123,
   "id": "4b1bb03d",
   "metadata": {},
   "outputs": [],
   "source": [
    "loss_fn = MSELoss()\n",
    "optimizer = Adam(model.parameters(), lr=0.1)"
   ]
  },
  {
   "cell_type": "code",
   "execution_count": 124,
   "id": "0c39c5b1",
   "metadata": {},
   "outputs": [
    {
     "name": "stdout",
     "output_type": "stream",
     "text": [
      "0 0.1622408926486969\n",
      "100 0.0010267386678606272\n",
      "200 0.0009357765084132552\n",
      "300 0.0009161757188849151\n",
      "400 0.0009139183675870299\n",
      "500 0.0009137728484347463\n",
      "600 0.0009137668530456722\n",
      "700 0.000913766969460994\n",
      "800 0.0009137671440839767\n",
      "900 0.0009137666784226894\n",
      "1000 0.000913766969460994\n",
      "1100 0.0009137666784226894\n",
      "1200 0.0009137672604992986\n",
      "1300 0.0009137672604992986\n",
      "1400 0.0009137672604992986\n",
      "1500 0.0009137665037997067\n",
      "1600 0.0009137670276686549\n",
      "1700 0.0009137667948380113\n",
      "1800 0.0009137671440839767\n",
      "1900 0.0009137673187069595\n"
     ]
    }
   ],
   "source": [
    "hist = []\n",
    "for step in range(2000):\n",
    "    optimizer.zero_grad()\n",
    "    hx = model.forward(x) # w*x+b # hx = model(x)\n",
    "    cost = loss_fn(hx, y)\n",
    "    cost.backward()\n",
    "    optimizer.step()\n",
    "    if step % 100 == 0:\n",
    "        print(step, cost.item())\n",
    "    hist.append(cost.item())"
   ]
  },
  {
   "cell_type": "code",
   "execution_count": 125,
   "id": "0881d128",
   "metadata": {},
   "outputs": [
    {
     "data": {
      "image/png": "[encoded data removed]",
      "text/plain": [
       "<Figure size 640x480 with 1 Axes>"
      ]
     },
     "metadata": {},
     "output_type": "display_data"
    }
   ],
   "source": [
    "plt.plot(hist)\n",
    "plt.show()"
   ]
  },
  {
   "cell_type": "markdown",
   "id": "857aa74f",
   "metadata": {},
   "source": [
    "## w,b검정지표: 결정계수(선형회귀)\n",
    "- 0 <= 결정계수 <= 1 (0.5 이상이면 예측으로 활용가능하다.)\n",
    "- 1 - (오차의 제곱합)/(편차의 제곱합)\n",
    "- 오차: 실제 값과 예측 값의 차이\n",
    "- 편차: 실제 값과 평균 값의 차이"
   ]
  },
  {
   "cell_type": "code",
   "execution_count": 126,
   "id": "178448a6",
   "metadata": {},
   "outputs": [
    {
     "data": {
      "text/plain": [
       "[Parameter containing:\n",
       " tensor([[0.6972, 0.2622]], requires_grad=True),\n",
       " Parameter containing:\n",
       " tensor([0.0098], requires_grad=True)]"
      ]
     },
     "execution_count": 126,
     "metadata": {},
     "output_type": "execute_result"
    }
   ],
   "source": [
    "list(model.parameters())"
   ]
  },
  {
   "cell_type": "code",
   "execution_count": 127,
   "id": "cc2aaa06",
   "metadata": {},
   "outputs": [
    {
     "data": {
      "text/plain": [
       "array([[0.00984981],\n",
       "       [0.00984981],\n",
       "       [0.16255675],\n",
       "       [0.16255675],\n",
       "       [0.3733613 ],\n",
       "       [0.3733613 ],\n",
       "       [0.64226335],\n",
       "       [0.64226335],\n",
       "       [0.96926296],\n",
       "       [0.96926296]], dtype=float32)"
      ]
     },
     "execution_count": 127,
     "metadata": {},
     "output_type": "execute_result"
    }
   ],
   "source": [
    "pred = model(x).detach().numpy()\n",
    "pred"
   ]
  },
  {
   "cell_type": "code",
   "execution_count": 128,
   "id": "2d140d4c",
   "metadata": {},
   "outputs": [
    {
     "data": {
      "text/plain": [
       "0.9922781792287055"
      ]
     },
     "execution_count": 128,
     "metadata": {},
     "output_type": "execute_result"
    }
   ],
   "source": [
    "r2_score(y_dataN, pred)"
   ]
  },
  {
   "cell_type": "code",
   "execution_count": 129,
   "id": "deec645c",
   "metadata": {},
   "outputs": [],
   "source": [
    "# Dummy data to draw smooth graph\n",
    "x_axis = np.linspace(1,50,50) # [ 1 , 2, 3, 4, ...., 50]\n",
    "x_dummy = [[xval**2, xval] for xval in x_axis]\n",
    "scaleF = MinMaxScaler()\n",
    "x_dummyN = scaleF.fit_transform( x_dummy )\n",
    "\n",
    "y_dummyN = model(torch.FloatTensor(x_dummyN)).detach().numpy()\n",
    "y_dummy = scaleL.inverse_transform(y_dummyN)"
   ]
  },
  {
   "cell_type": "code",
   "execution_count": 130,
   "id": "1ddc2ec3",
   "metadata": {},
   "outputs": [
    {
     "data": {
      "image/png": "[encoded data removed]",
      "text/plain": [
       "<Figure size 640x480 with 1 Axes>"
      ]
     },
     "metadata": {},
     "output_type": "display_data"
    }
   ],
   "source": [
    "# plt.ylim([0, 25000])\n",
    "plt.plot(x_data[:,[1]], y_data, 'o', label='train data')\n",
    "# plt.scatter(x_data, y_data)\n",
    "# plt.plot(x_data[:,1], np.exp(model(x).data.numpy()), '-r', linewidth=3, label='fitted') # r-- : Red, dashed line\n",
    "\n",
    "plt.plot(x_axis, y_dummy, 'r--', linewidth=3, label='fitted') # r-- : Red, dashed line\n",
    "# plt.grid()\n",
    "plt.legend()\n",
    "plt.show()"
   ]
  }
 ],
 "metadata": {
  "kernelspec": {
   "display_name": "Python 3.8.13 ('mc-perf-regression')",
   "language": "python",
   "name": "python3"
  },
  "language_info": {
   "codemirror_mode": {
    "name": "ipython",
    "version": 3
   },
   "file_extension": ".py",
   "mimetype": "text/x-python",
   "name": "python",
   "nbconvert_exporter": "python",
   "pygments_lexer": "ipython3",
   "version": "3.8.13"
  },
  "vscode": {
   "interpreter": {
    "hash": "df18979b1d7671eb92bdadbd0741e55b200657242ce0c5b22ecbe5cecfede04a"
   }
  }
 },
 "nbformat": 4,
 "nbformat_minor": 5
}
